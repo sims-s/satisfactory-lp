{
 "cells": [
  {
   "cell_type": "code",
   "execution_count": 1,
   "id": "e1971579",
   "metadata": {},
   "outputs": [],
   "source": [
    "import pandas as pd\n",
    "import json\n",
    "import numpy as np"
   ]
  },
  {
   "cell_type": "code",
   "execution_count": 2,
   "id": "8b130833",
   "metadata": {},
   "outputs": [
    {
     "data": {
      "text/html": [
       "<style>.container { width:100% !important; }</style>"
      ],
      "text/plain": [
       "<IPython.core.display.HTML object>"
      ]
     },
     "metadata": {},
     "output_type": "display_data"
    }
   ],
   "source": [
    "from IPython.display import display, HTML\n",
    "display(HTML(\"<style>.container { width:100% !important; }</style>\"))"
   ]
  },
  {
   "cell_type": "code",
   "execution_count": 3,
   "id": "9277f191",
   "metadata": {},
   "outputs": [],
   "source": [
    "def load_json(path):\n",
    "    with open(path, 'r') as f:\n",
    "        return json.load(f)"
   ]
  },
  {
   "cell_type": "markdown",
   "id": "7030fae8",
   "metadata": {},
   "source": [
    "## Load Stuff"
   ]
  },
  {
   "cell_type": "code",
   "execution_count": 4,
   "id": "e0093396",
   "metadata": {},
   "outputs": [],
   "source": [
    "raw_data = load_json('data_v2.json')"
   ]
  },
  {
   "cell_type": "code",
   "execution_count": 5,
   "id": "c57d6bc9",
   "metadata": {
    "scrolled": true
   },
   "outputs": [
    {
     "data": {
      "text/plain": [
       "dict_keys(['source', 'belts', 'pipes', 'buildings', 'miners', 'items', 'fluids', 'recipes', 'resources'])"
      ]
     },
     "execution_count": 5,
     "metadata": {},
     "output_type": "execute_result"
    }
   ],
   "source": [
    "raw_data.keys()"
   ]
  },
  {
   "cell_type": "code",
   "execution_count": 6,
   "id": "44785e82",
   "metadata": {},
   "outputs": [],
   "source": [
    "key_name_fn = lambda x: x.lower().replace(' ', '-')"
   ]
  },
  {
   "cell_type": "code",
   "execution_count": 7,
   "id": "bf0ecde5",
   "metadata": {},
   "outputs": [],
   "source": [
    "building_df = pd.DataFrame(raw_data['buildings'])"
   ]
  },
  {
   "cell_type": "code",
   "execution_count": 8,
   "id": "78088f4f",
   "metadata": {},
   "outputs": [],
   "source": [
    "item_df = pd.DataFrame.from_dict(raw_data['items'])"
   ]
  },
  {
   "cell_type": "code",
   "execution_count": 9,
   "id": "f8b1b56d",
   "metadata": {},
   "outputs": [],
   "source": [
    "fluid_df = pd.DataFrame.from_dict(raw_data['fluids'])"
   ]
  },
  {
   "cell_type": "code",
   "execution_count": 10,
   "id": "f441f0e8",
   "metadata": {},
   "outputs": [],
   "source": [
    "resource_df = pd.DataFrame.from_dict(raw_data['resources'])"
   ]
  },
  {
   "cell_type": "code",
   "execution_count": 11,
   "id": "3d17e2de",
   "metadata": {},
   "outputs": [],
   "source": [
    "recipe_df = pd.DataFrame.from_dict(raw_data['recipes'])"
   ]
  },
  {
   "cell_type": "markdown",
   "id": "a025f581",
   "metadata": {},
   "source": [
    "## Process recipe data"
   ]
  },
  {
   "cell_type": "markdown",
   "id": "7a9dd8ea",
   "metadata": {},
   "source": [
    "### Add power info"
   ]
  },
  {
   "cell_type": "code",
   "execution_count": 12,
   "id": "bcdddca0",
   "metadata": {},
   "outputs": [],
   "source": [
    "recipe_category_to_power = building_df.set_index('category')['power'].to_dict()\n",
    "# average of fluctuating\n",
    "recipe_category_to_power.update({'converting' : 250, 'encoding' : 1000})\n",
    "recipe_df['power_rate'] = recipe_df['category'].map(recipe_category_to_power)"
   ]
  },
  {
   "cell_type": "code",
   "execution_count": 13,
   "id": "28d5f54e",
   "metadata": {},
   "outputs": [],
   "source": [
    "overclock = 'base'\n",
    "sloop = 'base'\n",
    "\n",
    "if not overclock in {'max', 'base'} and 'sloop' in {'max', 'base'}:\n",
    "    raise ValueError"
   ]
  },
  {
   "cell_type": "code",
   "execution_count": 14,
   "id": "6aadc8e6",
   "metadata": {},
   "outputs": [],
   "source": [
    "# 2.5**1.321928 from: https://satisfactory.wiki.gg/wiki/Clock_speed\n",
    "\n",
    "if overclock == 'max':\n",
    "    recipe_df['ingredients'] = recipe_df['ingredients'].apply(lambda x: [[y[0], y[1] * 2.5] for y in x])\n",
    "    recipe_df['products'] = recipe_df['products'].apply(lambda x: [[y[0], y[1] * 2.5] for y in x])\n",
    "    recipe_df['power_rate'] = recipe_df['power_rate'] * 2.5**1.321928\n",
    "if sloop == 'max':\n",
    "    recipe_df['products'] = recipe_df['products'].apply(lambda x: [[y[0], y[1] * 2] for y in x])\n",
    "    recipe_df['power_rate'] = recipe_df['power_rate'] * 4\n",
    "    "
   ]
  },
  {
   "cell_type": "markdown",
   "id": "2651cc85",
   "metadata": {},
   "source": [
    "### Recipes for Base items - e.g. ore"
   ]
  },
  {
   "cell_type": "code",
   "execution_count": 15,
   "id": "bd5656f5",
   "metadata": {},
   "outputs": [],
   "source": [
    "base_items = ['Iron Ore', 'Limestone', 'Copper Ore', 'Bauxite', 'Caterium Ore', 'Coal','Raw Quartz', 'Sulfur', 'Uranium'] + ['Nitrogen Gas', 'Water', 'Crude Oil', 'SAM']\n",
    "base_key_items = [key_name_fn(x) for x in base_items]\n",
    "base_key_items_set = set(base_key_items)"
   ]
  },
  {
   "cell_type": "code",
   "execution_count": 16,
   "id": "96112476",
   "metadata": {},
   "outputs": [
    {
     "data": {
      "text/plain": [
       "['name',\n",
       " 'key_name',\n",
       " 'category',\n",
       " 'time',\n",
       " 'ingredients',\n",
       " 'products',\n",
       " 'power_range',\n",
       " 'power_rate']"
      ]
     },
     "execution_count": 16,
     "metadata": {},
     "output_type": "execute_result"
    }
   ],
   "source": [
    "list(recipe_df)"
   ]
  },
  {
   "cell_type": "code",
   "execution_count": 17,
   "id": "1a4aa483",
   "metadata": {},
   "outputs": [
    {
     "data": {
      "text/plain": [
       "(13, 8)"
      ]
     },
     "execution_count": 17,
     "metadata": {},
     "output_type": "execute_result"
    }
   ],
   "source": [
    "base_recipes = pd.DataFrame([[it, key_it, 'base', 0.0, [], [[key_it, 1]], np.nan, 0] for (it, key_it) in zip(base_items, base_key_items)], columns = list(recipe_df))\n",
    "base_recipes.shape"
   ]
  },
  {
   "cell_type": "code",
   "execution_count": 18,
   "id": "47b35fde",
   "metadata": {},
   "outputs": [],
   "source": [
    "recipe_df = pd.concat([recipe_df, base_recipes])"
   ]
  },
  {
   "cell_type": "code",
   "execution_count": 19,
   "id": "976e8600",
   "metadata": {},
   "outputs": [
    {
     "data": {
      "text/html": [
       "<div>\n",
       "<style scoped>\n",
       "    .dataframe tbody tr th:only-of-type {\n",
       "        vertical-align: middle;\n",
       "    }\n",
       "\n",
       "    .dataframe tbody tr th {\n",
       "        vertical-align: top;\n",
       "    }\n",
       "\n",
       "    .dataframe thead th {\n",
       "        text-align: right;\n",
       "    }\n",
       "</style>\n",
       "<table border=\"1\" class=\"dataframe\">\n",
       "  <thead>\n",
       "    <tr style=\"text-align: right;\">\n",
       "      <th></th>\n",
       "      <th>name</th>\n",
       "      <th>key_name</th>\n",
       "      <th>category</th>\n",
       "      <th>time</th>\n",
       "      <th>ingredients</th>\n",
       "      <th>products</th>\n",
       "      <th>power_range</th>\n",
       "      <th>power_rate</th>\n",
       "    </tr>\n",
       "  </thead>\n",
       "  <tbody>\n",
       "    <tr>\n",
       "      <th>0</th>\n",
       "      <td>Iron Ingot</td>\n",
       "      <td>iron-ingot</td>\n",
       "      <td>smelting1</td>\n",
       "      <td>2.0</td>\n",
       "      <td>[[iron-ore, 1]]</td>\n",
       "      <td>[[iron-ingot, 1]]</td>\n",
       "      <td>NaN</td>\n",
       "      <td>4</td>\n",
       "    </tr>\n",
       "    <tr>\n",
       "      <th>1</th>\n",
       "      <td>Alternate: Iron Alloy Ingot</td>\n",
       "      <td>alt-iron-ingot</td>\n",
       "      <td>smelting2</td>\n",
       "      <td>12.0</td>\n",
       "      <td>[[iron-ore, 8], [copper-ore, 2]]</td>\n",
       "      <td>[[iron-ingot, 15]]</td>\n",
       "      <td>NaN</td>\n",
       "      <td>16</td>\n",
       "    </tr>\n",
       "    <tr>\n",
       "      <th>2</th>\n",
       "      <td>Alternate: Pure Iron Ingot</td>\n",
       "      <td>alt-pure-iron-ingot</td>\n",
       "      <td>refining</td>\n",
       "      <td>12.0</td>\n",
       "      <td>[[iron-ore, 7], [water, 4]]</td>\n",
       "      <td>[[iron-ingot, 13]]</td>\n",
       "      <td>NaN</td>\n",
       "      <td>30</td>\n",
       "    </tr>\n",
       "    <tr>\n",
       "      <th>3</th>\n",
       "      <td>Alternate: Leached Iron Ingot</td>\n",
       "      <td>alt-leached-iron-ingot</td>\n",
       "      <td>refining</td>\n",
       "      <td>6.0</td>\n",
       "      <td>[[iron-ore, 5], [sulfuric-acid, 1]]</td>\n",
       "      <td>[[iron-ingot, 10]]</td>\n",
       "      <td>NaN</td>\n",
       "      <td>30</td>\n",
       "    </tr>\n",
       "    <tr>\n",
       "      <th>4</th>\n",
       "      <td>Copper Ingot</td>\n",
       "      <td>copper-ingot</td>\n",
       "      <td>smelting1</td>\n",
       "      <td>2.0</td>\n",
       "      <td>[[copper-ore, 1]]</td>\n",
       "      <td>[[copper-ingot, 1]]</td>\n",
       "      <td>NaN</td>\n",
       "      <td>4</td>\n",
       "    </tr>\n",
       "    <tr>\n",
       "      <th>...</th>\n",
       "      <td>...</td>\n",
       "      <td>...</td>\n",
       "      <td>...</td>\n",
       "      <td>...</td>\n",
       "      <td>...</td>\n",
       "      <td>...</td>\n",
       "      <td>...</td>\n",
       "      <td>...</td>\n",
       "    </tr>\n",
       "    <tr>\n",
       "      <th>8</th>\n",
       "      <td>Uranium</td>\n",
       "      <td>uranium</td>\n",
       "      <td>base</td>\n",
       "      <td>0.0</td>\n",
       "      <td>[]</td>\n",
       "      <td>[[uranium, 1]]</td>\n",
       "      <td>NaN</td>\n",
       "      <td>0</td>\n",
       "    </tr>\n",
       "    <tr>\n",
       "      <th>9</th>\n",
       "      <td>Nitrogen Gas</td>\n",
       "      <td>nitrogen-gas</td>\n",
       "      <td>base</td>\n",
       "      <td>0.0</td>\n",
       "      <td>[]</td>\n",
       "      <td>[[nitrogen-gas, 1]]</td>\n",
       "      <td>NaN</td>\n",
       "      <td>0</td>\n",
       "    </tr>\n",
       "    <tr>\n",
       "      <th>10</th>\n",
       "      <td>Water</td>\n",
       "      <td>water</td>\n",
       "      <td>base</td>\n",
       "      <td>0.0</td>\n",
       "      <td>[]</td>\n",
       "      <td>[[water, 1]]</td>\n",
       "      <td>NaN</td>\n",
       "      <td>0</td>\n",
       "    </tr>\n",
       "    <tr>\n",
       "      <th>11</th>\n",
       "      <td>Crude Oil</td>\n",
       "      <td>crude-oil</td>\n",
       "      <td>base</td>\n",
       "      <td>0.0</td>\n",
       "      <td>[]</td>\n",
       "      <td>[[crude-oil, 1]]</td>\n",
       "      <td>NaN</td>\n",
       "      <td>0</td>\n",
       "    </tr>\n",
       "    <tr>\n",
       "      <th>12</th>\n",
       "      <td>SAM</td>\n",
       "      <td>sam</td>\n",
       "      <td>base</td>\n",
       "      <td>0.0</td>\n",
       "      <td>[]</td>\n",
       "      <td>[[sam, 1]]</td>\n",
       "      <td>NaN</td>\n",
       "      <td>0</td>\n",
       "    </tr>\n",
       "  </tbody>\n",
       "</table>\n",
       "<p>285 rows × 8 columns</p>\n",
       "</div>"
      ],
      "text/plain": [
       "                             name                key_name   category  time  \\\n",
       "0                      Iron Ingot              iron-ingot  smelting1   2.0   \n",
       "1     Alternate: Iron Alloy Ingot          alt-iron-ingot  smelting2  12.0   \n",
       "2      Alternate: Pure Iron Ingot     alt-pure-iron-ingot   refining  12.0   \n",
       "3   Alternate: Leached Iron Ingot  alt-leached-iron-ingot   refining   6.0   \n",
       "4                    Copper Ingot            copper-ingot  smelting1   2.0   \n",
       "..                            ...                     ...        ...   ...   \n",
       "8                         Uranium                 uranium       base   0.0   \n",
       "9                    Nitrogen Gas            nitrogen-gas       base   0.0   \n",
       "10                          Water                   water       base   0.0   \n",
       "11                      Crude Oil               crude-oil       base   0.0   \n",
       "12                            SAM                     sam       base   0.0   \n",
       "\n",
       "                            ingredients             products power_range  \\\n",
       "0                       [[iron-ore, 1]]    [[iron-ingot, 1]]         NaN   \n",
       "1      [[iron-ore, 8], [copper-ore, 2]]   [[iron-ingot, 15]]         NaN   \n",
       "2           [[iron-ore, 7], [water, 4]]   [[iron-ingot, 13]]         NaN   \n",
       "3   [[iron-ore, 5], [sulfuric-acid, 1]]   [[iron-ingot, 10]]         NaN   \n",
       "4                     [[copper-ore, 1]]  [[copper-ingot, 1]]         NaN   \n",
       "..                                  ...                  ...         ...   \n",
       "8                                    []       [[uranium, 1]]         NaN   \n",
       "9                                    []  [[nitrogen-gas, 1]]         NaN   \n",
       "10                                   []         [[water, 1]]         NaN   \n",
       "11                                   []     [[crude-oil, 1]]         NaN   \n",
       "12                                   []           [[sam, 1]]         NaN   \n",
       "\n",
       "    power_rate  \n",
       "0            4  \n",
       "1           16  \n",
       "2           30  \n",
       "3           30  \n",
       "4            4  \n",
       "..         ...  \n",
       "8            0  \n",
       "9            0  \n",
       "10           0  \n",
       "11           0  \n",
       "12           0  \n",
       "\n",
       "[285 rows x 8 columns]"
      ]
     },
     "execution_count": 19,
     "metadata": {},
     "output_type": "execute_result"
    }
   ],
   "source": [
    "recipe_df"
   ]
  },
  {
   "cell_type": "markdown",
   "id": "46f4b72d",
   "metadata": {},
   "source": [
    "### load/process points data"
   ]
  },
  {
   "cell_type": "code",
   "execution_count": 20,
   "id": "75ac5739",
   "metadata": {},
   "outputs": [],
   "source": [
    "points_df = pd.read_html('https://satisfactory.fandom.com/wiki/AWESOME_Sink')[3]"
   ]
  },
  {
   "cell_type": "code",
   "execution_count": 21,
   "id": "6d83d274",
   "metadata": {
    "scrolled": true
   },
   "outputs": [
    {
     "data": {
      "text/html": [
       "<div>\n",
       "<style scoped>\n",
       "    .dataframe tbody tr th:only-of-type {\n",
       "        vertical-align: middle;\n",
       "    }\n",
       "\n",
       "    .dataframe tbody tr th {\n",
       "        vertical-align: top;\n",
       "    }\n",
       "\n",
       "    .dataframe thead th {\n",
       "        text-align: right;\n",
       "    }\n",
       "</style>\n",
       "<table border=\"1\" class=\"dataframe\">\n",
       "  <thead>\n",
       "    <tr style=\"text-align: right;\">\n",
       "      <th></th>\n",
       "      <th>Points</th>\n",
       "      <th>Items</th>\n",
       "    </tr>\n",
       "  </thead>\n",
       "  <tbody>\n",
       "    <tr>\n",
       "      <th>0</th>\n",
       "      <td>1</td>\n",
       "      <td>FICSIT Coupon (For the first time, the Cyber W...</td>\n",
       "    </tr>\n",
       "    <tr>\n",
       "      <th>1</th>\n",
       "      <td>1</td>\n",
       "      <td>FICSMAS Tree Branch, FICSMAS Decoration, Blue ...</td>\n",
       "    </tr>\n",
       "    <tr>\n",
       "      <th>2</th>\n",
       "      <td>2</td>\n",
       "      <td>Iron Ingot, Screw, Limestone</td>\n",
       "    </tr>\n",
       "    <tr>\n",
       "      <th>3</th>\n",
       "      <td>3</td>\n",
       "      <td>Coal, Copper Ore, Leaves</td>\n",
       "    </tr>\n",
       "    <tr>\n",
       "      <th>4</th>\n",
       "      <td>4</td>\n",
       "      <td>Iron Rod</td>\n",
       "    </tr>\n",
       "    <tr>\n",
       "      <th>...</th>\n",
       "      <td>...</td>\n",
       "      <td>...</td>\n",
       "    </tr>\n",
       "    <tr>\n",
       "      <th>98</th>\n",
       "      <td>257 312</td>\n",
       "      <td>Pressure Conversion Cube</td>\n",
       "    </tr>\n",
       "    <tr>\n",
       "      <th>99</th>\n",
       "      <td>413 920</td>\n",
       "      <td>Hover Pack</td>\n",
       "    </tr>\n",
       "    <tr>\n",
       "      <th>100</th>\n",
       "      <td>543 424</td>\n",
       "      <td>Nuclear Pasta</td>\n",
       "    </tr>\n",
       "    <tr>\n",
       "      <th>101</th>\n",
       "      <td>543 632</td>\n",
       "      <td>Assembly Director System</td>\n",
       "    </tr>\n",
       "    <tr>\n",
       "      <th>102</th>\n",
       "      <td>732 956</td>\n",
       "      <td>Thermal Propulsion Rocket</td>\n",
       "    </tr>\n",
       "  </tbody>\n",
       "</table>\n",
       "<p>103 rows × 2 columns</p>\n",
       "</div>"
      ],
      "text/plain": [
       "      Points                                              Items\n",
       "0          1  FICSIT Coupon (For the first time, the Cyber W...\n",
       "1          1  FICSMAS Tree Branch, FICSMAS Decoration, Blue ...\n",
       "2          2                       Iron Ingot, Screw, Limestone\n",
       "3          3                           Coal, Copper Ore, Leaves\n",
       "4          4                                           Iron Rod\n",
       "..       ...                                                ...\n",
       "98   257 312                           Pressure Conversion Cube\n",
       "99   413 920                                         Hover Pack\n",
       "100  543 424                                      Nuclear Pasta\n",
       "101  543 632                           Assembly Director System\n",
       "102  732 956                          Thermal Propulsion Rocket\n",
       "\n",
       "[103 rows x 2 columns]"
      ]
     },
     "execution_count": 21,
     "metadata": {},
     "output_type": "execute_result"
    }
   ],
   "source": [
    "points_df"
   ]
  },
  {
   "cell_type": "code",
   "execution_count": 22,
   "id": "686f5b81",
   "metadata": {},
   "outputs": [],
   "source": [
    "# split stuff as list by comma & explode\n",
    "points_df['Items'] = points_df['Items'].apply(lambda x: x.split(','))\n",
    "points_df = points_df.explode('Items').reset_index(drop=True).iloc[5:]\n",
    "points_df.rename({'Points' : 'points', 'Items' : 'item'}, axis=1, inplace=True)\n",
    "points_df['item'] = points_df['item'].apply(lambda x: x.strip())\n",
    "points_df['points'] = points_df['points'].apply(lambda x: int(x.replace(' ', '')))"
   ]
  },
  {
   "cell_type": "code",
   "execution_count": 23,
   "id": "b3dae6c0",
   "metadata": {},
   "outputs": [],
   "source": [
    "\n",
    "\n",
    "\n",
    "# ['alt-distilled-silica', 'alt-heavy-oil-residue', 'alt-polymer-resin', 'alumina-solution', 'ballistic-warp-drive', 'crude-oil', 'dark-matter-crystal', 'dark-matter-residue', 'diamonds', 'encased-plutonium-cell', 'excited-photonic-matter', 'ficsite-ingot', 'ficsite-trigon', 'ficsonium', 'ficsonium-fuel-rod', 'fuel', 'hatcher-remains', 'hog-remains', 'ionized-fuel', 'liquid-biofuel', 'neural-quantum-processor', 'nitric-acid', 'nitrogen-gas', 'non-fissile-uranium', 'packaged-ionized-fuel', 'packaged-rocket-fuel', 'plutonium-pellet', 'plutonium-waste', 'power-shard', 'reanimated-sam', 'rocket-fuel', 'sam', 'sam-fluctuator', 'singularity-cell', 'spitter-remains', 'stinger-remains', 'sulfuric-acid', 'superposition-oscillator', 'time-crystal', 'turbofuel', 'uranium-waste', 'water']\n"
   ]
  },
  {
   "cell_type": "code",
   "execution_count": 24,
   "id": "52f3541b",
   "metadata": {},
   "outputs": [],
   "source": [
    "missing_points = [\n",
    "    [597652, 'AI Expansion Server'],\n",
    "    [210, 'Alien Power Matrix'],\n",
    "    [2895334, 'Ballistic Warp Drive'],\n",
    "    [1780, 'Dark Matter Crystal'],\n",
    "    [240, 'Diamonds'],\n",
    "    [1936, 'Ficsite Ingot'],\n",
    "    [1291, 'Ficsite Trigon'],\n",
    "    [248034, 'Neural Quantum Processor'],\n",
    "    [5246, 'Packaged Ionized Fuel'],\n",
    "    [1028, 'Packaged Rocket Fuel'],\n",
    "    [160, 'Reanimated SAM'],\n",
    "    [20, 'SAM'],\n",
    "    [1968, 'SAM Fluctuator'],\n",
    "    [114675, 'Singularity Cell'],\n",
    "    [37292, 'Superposition Oscillator'],\n",
    "    [960, 'Time Crystal']\n",
    "]\n",
    "points_df = pd.concat([points_df, pd.DataFrame.from_records(missing_points, columns = list(points_df))], axis=0).reset_index(drop=True)"
   ]
  },
  {
   "cell_type": "code",
   "execution_count": 25,
   "id": "2e496d94",
   "metadata": {},
   "outputs": [],
   "source": [
    "garbage = [\"Actual Snow\",\n",
    "\"Candy Cane\",\n",
    "\"FICSMAS Gift\",\n",
    "\"Sweet Fireworks\",\n",
    "\"Sparkly Fireworks\",\n",
    "\"Copper FICSMAS Ornament\",\n",
    "\"FICSMAS Ornament Bundle\",\n",
    "\"Iron FICSMAS Ornament\",\n",
    "\"Snowball\",\n",
    "\"Red FICSMAS Ornament\",\n",
    "\"FICSMAS Wonder Star\",\n",
    "\"Fancy Fireworks\",\n",
    "\"FICSMAS Bow\",\n",
    "'Portable Miner']"
   ]
  },
  {
   "cell_type": "code",
   "execution_count": 26,
   "id": "60c3c2e2",
   "metadata": {},
   "outputs": [],
   "source": [
    "points_df = points_df[points_df['item'].apply(lambda x: not x in garbage)].reset_index(drop=True)"
   ]
  },
  {
   "cell_type": "code",
   "execution_count": 27,
   "id": "5503213c",
   "metadata": {},
   "outputs": [],
   "source": [
    "points_df['key_name'] = points_df['item'].apply(key_name_fn)"
   ]
  },
  {
   "cell_type": "code",
   "execution_count": 28,
   "id": "8e9884a6",
   "metadata": {
    "scrolled": false
   },
   "outputs": [
    {
     "data": {
      "text/html": [
       "<div>\n",
       "<style scoped>\n",
       "    .dataframe tbody tr th:only-of-type {\n",
       "        vertical-align: middle;\n",
       "    }\n",
       "\n",
       "    .dataframe tbody tr th {\n",
       "        vertical-align: top;\n",
       "    }\n",
       "\n",
       "    .dataframe thead th {\n",
       "        text-align: right;\n",
       "    }\n",
       "</style>\n",
       "<table border=\"1\" class=\"dataframe\">\n",
       "  <thead>\n",
       "    <tr style=\"text-align: right;\">\n",
       "      <th></th>\n",
       "      <th>name</th>\n",
       "      <th>key_name</th>\n",
       "      <th>category</th>\n",
       "      <th>time</th>\n",
       "      <th>ingredients</th>\n",
       "      <th>products</th>\n",
       "      <th>power_range</th>\n",
       "      <th>power_rate</th>\n",
       "    </tr>\n",
       "  </thead>\n",
       "  <tbody>\n",
       "    <tr>\n",
       "      <th>0</th>\n",
       "      <td>Iron Ingot</td>\n",
       "      <td>iron-ingot</td>\n",
       "      <td>smelting1</td>\n",
       "      <td>2.0</td>\n",
       "      <td>[[iron-ore, 1]]</td>\n",
       "      <td>[[iron-ingot, 1]]</td>\n",
       "      <td>NaN</td>\n",
       "      <td>4</td>\n",
       "    </tr>\n",
       "    <tr>\n",
       "      <th>1</th>\n",
       "      <td>Alternate: Iron Alloy Ingot</td>\n",
       "      <td>alt-iron-ingot</td>\n",
       "      <td>smelting2</td>\n",
       "      <td>12.0</td>\n",
       "      <td>[[iron-ore, 8], [copper-ore, 2]]</td>\n",
       "      <td>[[iron-ingot, 15]]</td>\n",
       "      <td>NaN</td>\n",
       "      <td>16</td>\n",
       "    </tr>\n",
       "    <tr>\n",
       "      <th>2</th>\n",
       "      <td>Alternate: Pure Iron Ingot</td>\n",
       "      <td>alt-pure-iron-ingot</td>\n",
       "      <td>refining</td>\n",
       "      <td>12.0</td>\n",
       "      <td>[[iron-ore, 7], [water, 4]]</td>\n",
       "      <td>[[iron-ingot, 13]]</td>\n",
       "      <td>NaN</td>\n",
       "      <td>30</td>\n",
       "    </tr>\n",
       "    <tr>\n",
       "      <th>3</th>\n",
       "      <td>Alternate: Leached Iron Ingot</td>\n",
       "      <td>alt-leached-iron-ingot</td>\n",
       "      <td>refining</td>\n",
       "      <td>6.0</td>\n",
       "      <td>[[iron-ore, 5], [sulfuric-acid, 1]]</td>\n",
       "      <td>[[iron-ingot, 10]]</td>\n",
       "      <td>NaN</td>\n",
       "      <td>30</td>\n",
       "    </tr>\n",
       "    <tr>\n",
       "      <th>4</th>\n",
       "      <td>Copper Ingot</td>\n",
       "      <td>copper-ingot</td>\n",
       "      <td>smelting1</td>\n",
       "      <td>2.0</td>\n",
       "      <td>[[copper-ore, 1]]</td>\n",
       "      <td>[[copper-ingot, 1]]</td>\n",
       "      <td>NaN</td>\n",
       "      <td>4</td>\n",
       "    </tr>\n",
       "    <tr>\n",
       "      <th>...</th>\n",
       "      <td>...</td>\n",
       "      <td>...</td>\n",
       "      <td>...</td>\n",
       "      <td>...</td>\n",
       "      <td>...</td>\n",
       "      <td>...</td>\n",
       "      <td>...</td>\n",
       "      <td>...</td>\n",
       "    </tr>\n",
       "    <tr>\n",
       "      <th>8</th>\n",
       "      <td>Uranium</td>\n",
       "      <td>uranium</td>\n",
       "      <td>base</td>\n",
       "      <td>0.0</td>\n",
       "      <td>[]</td>\n",
       "      <td>[[uranium, 1]]</td>\n",
       "      <td>NaN</td>\n",
       "      <td>0</td>\n",
       "    </tr>\n",
       "    <tr>\n",
       "      <th>9</th>\n",
       "      <td>Nitrogen Gas</td>\n",
       "      <td>nitrogen-gas</td>\n",
       "      <td>base</td>\n",
       "      <td>0.0</td>\n",
       "      <td>[]</td>\n",
       "      <td>[[nitrogen-gas, 1]]</td>\n",
       "      <td>NaN</td>\n",
       "      <td>0</td>\n",
       "    </tr>\n",
       "    <tr>\n",
       "      <th>10</th>\n",
       "      <td>Water</td>\n",
       "      <td>water</td>\n",
       "      <td>base</td>\n",
       "      <td>0.0</td>\n",
       "      <td>[]</td>\n",
       "      <td>[[water, 1]]</td>\n",
       "      <td>NaN</td>\n",
       "      <td>0</td>\n",
       "    </tr>\n",
       "    <tr>\n",
       "      <th>11</th>\n",
       "      <td>Crude Oil</td>\n",
       "      <td>crude-oil</td>\n",
       "      <td>base</td>\n",
       "      <td>0.0</td>\n",
       "      <td>[]</td>\n",
       "      <td>[[crude-oil, 1]]</td>\n",
       "      <td>NaN</td>\n",
       "      <td>0</td>\n",
       "    </tr>\n",
       "    <tr>\n",
       "      <th>12</th>\n",
       "      <td>SAM</td>\n",
       "      <td>sam</td>\n",
       "      <td>base</td>\n",
       "      <td>0.0</td>\n",
       "      <td>[]</td>\n",
       "      <td>[[sam, 1]]</td>\n",
       "      <td>NaN</td>\n",
       "      <td>0</td>\n",
       "    </tr>\n",
       "  </tbody>\n",
       "</table>\n",
       "<p>285 rows × 8 columns</p>\n",
       "</div>"
      ],
      "text/plain": [
       "                             name                key_name   category  time  \\\n",
       "0                      Iron Ingot              iron-ingot  smelting1   2.0   \n",
       "1     Alternate: Iron Alloy Ingot          alt-iron-ingot  smelting2  12.0   \n",
       "2      Alternate: Pure Iron Ingot     alt-pure-iron-ingot   refining  12.0   \n",
       "3   Alternate: Leached Iron Ingot  alt-leached-iron-ingot   refining   6.0   \n",
       "4                    Copper Ingot            copper-ingot  smelting1   2.0   \n",
       "..                            ...                     ...        ...   ...   \n",
       "8                         Uranium                 uranium       base   0.0   \n",
       "9                    Nitrogen Gas            nitrogen-gas       base   0.0   \n",
       "10                          Water                   water       base   0.0   \n",
       "11                      Crude Oil               crude-oil       base   0.0   \n",
       "12                            SAM                     sam       base   0.0   \n",
       "\n",
       "                            ingredients             products power_range  \\\n",
       "0                       [[iron-ore, 1]]    [[iron-ingot, 1]]         NaN   \n",
       "1      [[iron-ore, 8], [copper-ore, 2]]   [[iron-ingot, 15]]         NaN   \n",
       "2           [[iron-ore, 7], [water, 4]]   [[iron-ingot, 13]]         NaN   \n",
       "3   [[iron-ore, 5], [sulfuric-acid, 1]]   [[iron-ingot, 10]]         NaN   \n",
       "4                     [[copper-ore, 1]]  [[copper-ingot, 1]]         NaN   \n",
       "..                                  ...                  ...         ...   \n",
       "8                                    []       [[uranium, 1]]         NaN   \n",
       "9                                    []  [[nitrogen-gas, 1]]         NaN   \n",
       "10                                   []         [[water, 1]]         NaN   \n",
       "11                                   []     [[crude-oil, 1]]         NaN   \n",
       "12                                   []           [[sam, 1]]         NaN   \n",
       "\n",
       "    power_rate  \n",
       "0            4  \n",
       "1           16  \n",
       "2           30  \n",
       "3           30  \n",
       "4            4  \n",
       "..         ...  \n",
       "8            0  \n",
       "9            0  \n",
       "10           0  \n",
       "11           0  \n",
       "12           0  \n",
       "\n",
       "[285 rows x 8 columns]"
      ]
     },
     "execution_count": 28,
     "metadata": {},
     "output_type": "execute_result"
    }
   ],
   "source": [
    "recipe_df"
   ]
  },
  {
   "cell_type": "code",
   "execution_count": 29,
   "id": "c13114de",
   "metadata": {
    "scrolled": true
   },
   "outputs": [
    {
     "data": {
      "text/html": [
       "<div>\n",
       "<style scoped>\n",
       "    .dataframe tbody tr th:only-of-type {\n",
       "        vertical-align: middle;\n",
       "    }\n",
       "\n",
       "    .dataframe tbody tr th {\n",
       "        vertical-align: top;\n",
       "    }\n",
       "\n",
       "    .dataframe thead th {\n",
       "        text-align: right;\n",
       "    }\n",
       "</style>\n",
       "<table border=\"1\" class=\"dataframe\">\n",
       "  <thead>\n",
       "    <tr style=\"text-align: right;\">\n",
       "      <th></th>\n",
       "      <th>points</th>\n",
       "      <th>item</th>\n",
       "      <th>key_name</th>\n",
       "    </tr>\n",
       "  </thead>\n",
       "  <tbody>\n",
       "    <tr>\n",
       "      <th>0</th>\n",
       "      <td>1</td>\n",
       "      <td>Iron Ore</td>\n",
       "      <td>iron-ore</td>\n",
       "    </tr>\n",
       "    <tr>\n",
       "      <th>1</th>\n",
       "      <td>2</td>\n",
       "      <td>Iron Ingot</td>\n",
       "      <td>iron-ingot</td>\n",
       "    </tr>\n",
       "    <tr>\n",
       "      <th>2</th>\n",
       "      <td>2</td>\n",
       "      <td>Screw</td>\n",
       "      <td>screw</td>\n",
       "    </tr>\n",
       "    <tr>\n",
       "      <th>3</th>\n",
       "      <td>2</td>\n",
       "      <td>Limestone</td>\n",
       "      <td>limestone</td>\n",
       "    </tr>\n",
       "    <tr>\n",
       "      <th>4</th>\n",
       "      <td>3</td>\n",
       "      <td>Coal</td>\n",
       "      <td>coal</td>\n",
       "    </tr>\n",
       "    <tr>\n",
       "      <th>...</th>\n",
       "      <td>...</td>\n",
       "      <td>...</td>\n",
       "      <td>...</td>\n",
       "    </tr>\n",
       "    <tr>\n",
       "      <th>134</th>\n",
       "      <td>20</td>\n",
       "      <td>SAM</td>\n",
       "      <td>sam</td>\n",
       "    </tr>\n",
       "    <tr>\n",
       "      <th>135</th>\n",
       "      <td>1968</td>\n",
       "      <td>SAM Fluctuator</td>\n",
       "      <td>sam-fluctuator</td>\n",
       "    </tr>\n",
       "    <tr>\n",
       "      <th>136</th>\n",
       "      <td>114675</td>\n",
       "      <td>Singularity Cell</td>\n",
       "      <td>singularity-cell</td>\n",
       "    </tr>\n",
       "    <tr>\n",
       "      <th>137</th>\n",
       "      <td>37292</td>\n",
       "      <td>Superposition Oscillator</td>\n",
       "      <td>superposition-oscillator</td>\n",
       "    </tr>\n",
       "    <tr>\n",
       "      <th>138</th>\n",
       "      <td>960</td>\n",
       "      <td>Time Crystal</td>\n",
       "      <td>time-crystal</td>\n",
       "    </tr>\n",
       "  </tbody>\n",
       "</table>\n",
       "<p>139 rows × 3 columns</p>\n",
       "</div>"
      ],
      "text/plain": [
       "     points                      item                  key_name\n",
       "0         1                  Iron Ore                  iron-ore\n",
       "1         2                Iron Ingot                iron-ingot\n",
       "2         2                     Screw                     screw\n",
       "3         2                 Limestone                 limestone\n",
       "4         3                      Coal                      coal\n",
       "..      ...                       ...                       ...\n",
       "134      20                       SAM                       sam\n",
       "135    1968            SAM Fluctuator            sam-fluctuator\n",
       "136  114675          Singularity Cell          singularity-cell\n",
       "137   37292  Superposition Oscillator  superposition-oscillator\n",
       "138     960              Time Crystal              time-crystal\n",
       "\n",
       "[139 rows x 3 columns]"
      ]
     },
     "execution_count": 29,
     "metadata": {},
     "output_type": "execute_result"
    }
   ],
   "source": [
    "points_df"
   ]
  },
  {
   "cell_type": "markdown",
   "id": "633418d3",
   "metadata": {},
   "source": [
    "### Filter out unwanted things form poitns & recipes"
   ]
  },
  {
   "cell_type": "code",
   "execution_count": 30,
   "id": "f2460848",
   "metadata": {},
   "outputs": [],
   "source": [
    "ignore_things = [key_name_fn(x) for x in ['Hog Remains', 'Spitter Remains', 'Stinger Remains', 'Hatcher Remains', 'Leaves', 'Wood', 'Mycelia', 'Yellow Power Slug', 'Purple Power Slug', 'Blue Power Slug', 'Automated Miner']]"
   ]
  },
  {
   "cell_type": "code",
   "execution_count": 31,
   "id": "a2ca38d1",
   "metadata": {},
   "outputs": [
    {
     "name": "stdout",
     "output_type": "stream",
     "text": [
      "(285, 8)\n"
     ]
    },
    {
     "data": {
      "text/plain": [
       "(272, 8)"
      ]
     },
     "execution_count": 31,
     "metadata": {},
     "output_type": "execute_result"
    }
   ],
   "source": [
    "print(recipe_df.shape)\n",
    "recipe_df = recipe_df[recipe_df['products'].apply(lambda x: not any([y[0] in ignore_things for y in x]))].reset_index(drop=True)\n",
    "recipe_df = recipe_df[recipe_df['ingredients'].apply(lambda x: not any([y[0] in ignore_things for y in x]))].reset_index(drop=True)\n",
    "recipe_df = recipe_df[~recipe_df['key_name'].isin(ignore_things)].reset_index(drop=True)\n",
    "recipe_df.shape"
   ]
  },
  {
   "cell_type": "code",
   "execution_count": 32,
   "id": "989e0b9e",
   "metadata": {
    "scrolled": false
   },
   "outputs": [
    {
     "name": "stdout",
     "output_type": "stream",
     "text": [
      "(139, 3)\n"
     ]
    },
    {
     "data": {
      "text/plain": [
       "(136, 3)"
      ]
     },
     "execution_count": 32,
     "metadata": {},
     "output_type": "execute_result"
    }
   ],
   "source": [
    "print(points_df.shape)\n",
    "points_df = points_df[~points_df['key_name'].isin(ignore_things)].reset_index(drop=True)\n",
    "points_df.shape"
   ]
  },
  {
   "cell_type": "markdown",
   "id": "1ffa8bb0",
   "metadata": {},
   "source": [
    "### Make points data & recipe data joinable"
   ]
  },
  {
   "cell_type": "code",
   "execution_count": 33,
   "id": "e043e7b3",
   "metadata": {},
   "outputs": [],
   "source": [
    "points_rename_mapper = {\n",
    "    'encased-uranium-cell' : 'uranium-cell',\n",
    "#     'biomass-(leaves)' : 'biomass-from-leaves',\n",
    "#     'biomass-(mycelia)' : 'biomass-from-mycelia',\n",
    "#     'biomass-(wood)' : 'biomass-from-wood',\n",
    "    'gas-filter' : 'filter',\n",
    "    'electromagnetic-control-rod' : 'em-control-rod',\n",
    "    \n",
    "}\n",
    "points_df['key_name'] = points_df['key_name'].apply(lambda x: points_rename_mapper.get(x, x))"
   ]
  },
  {
   "cell_type": "code",
   "execution_count": 34,
   "id": "1ef83b5d",
   "metadata": {
    "scrolled": true
   },
   "outputs": [
    {
     "ename": "NameError",
     "evalue": "name 'sys' is not defined",
     "output_type": "error",
     "traceback": [
      "\u001b[1;31m---------------------------------------------------------------------------\u001b[0m",
      "\u001b[1;31mNameError\u001b[0m                                 Traceback (most recent call last)",
      "Cell \u001b[1;32mIn[34], line 1\u001b[0m\n\u001b[1;32m----> 1\u001b[0m \u001b[43msys\u001b[49m\u001b[38;5;241m.\u001b[39mexit()\n",
      "\u001b[1;31mNameError\u001b[0m: name 'sys' is not defined"
     ]
    }
   ],
   "source": [
    "sys.exit()"
   ]
  },
  {
   "cell_type": "markdown",
   "id": "bf14d26c",
   "metadata": {},
   "source": [
    "### Validate that everything is good\n",
    "We need:  \n",
    "* all ingredients/products that should be scoreable are scoreable\n",
    "* WHAT ELSE DO WE NEED???"
   ]
  },
  {
   "cell_type": "code",
   "execution_count": 41,
   "id": "2b0342f4",
   "metadata": {},
   "outputs": [],
   "source": [
    "NO_SINK_ENTRY = set([key_name_fn(x) for x in ['Alien Protein', 'Encased Plutonium Cell', 'Ficsonium', 'Ficsonium Fuel Rod', 'Non Fissile Uranium', 'Plutonium Pellet', 'Plutonium Waste', 'Power Shard', 'Uranium Waste']] + fluid_df['key_name'].tolist())"
   ]
  },
  {
   "cell_type": "code",
   "execution_count": 42,
   "id": "0a86a06f",
   "metadata": {},
   "outputs": [],
   "source": [
    "all_ingredients = set(recipe_df['ingredients'].explode().dropna().apply(lambda x: x[0] if len(x) else None).dropna().unique())\n",
    "all_products = set(recipe_df['products'].explode().dropna().apply(lambda x: x[0] if len(x) else None).dropna().unique())"
   ]
  },
  {
   "cell_type": "code",
   "execution_count": 43,
   "id": "2f472148",
   "metadata": {},
   "outputs": [],
   "source": [
    "all_scoreables = set(points_df['key_name'].tolist())"
   ]
  },
  {
   "cell_type": "code",
   "execution_count": 44,
   "id": "dc5d93f5",
   "metadata": {},
   "outputs": [
    {
     "data": {
      "text/plain": [
       "(124, 139, 136)"
      ]
     },
     "execution_count": 44,
     "metadata": {},
     "output_type": "execute_result"
    }
   ],
   "source": [
    "len(all_ingredients), len(all_products), len(all_scoreables)"
   ]
  },
  {
   "cell_type": "code",
   "execution_count": 45,
   "id": "188a4635",
   "metadata": {
    "scrolled": true
   },
   "outputs": [
    {
     "data": {
      "text/html": [
       "<div>\n",
       "<style scoped>\n",
       "    .dataframe tbody tr th:only-of-type {\n",
       "        vertical-align: middle;\n",
       "    }\n",
       "\n",
       "    .dataframe tbody tr th {\n",
       "        vertical-align: top;\n",
       "    }\n",
       "\n",
       "    .dataframe thead th {\n",
       "        text-align: right;\n",
       "    }\n",
       "</style>\n",
       "<table border=\"1\" class=\"dataframe\">\n",
       "  <thead>\n",
       "    <tr style=\"text-align: right;\">\n",
       "      <th></th>\n",
       "      <th>name</th>\n",
       "      <th>key_name</th>\n",
       "      <th>tier</th>\n",
       "    </tr>\n",
       "  </thead>\n",
       "  <tbody>\n",
       "    <tr>\n",
       "      <th>0</th>\n",
       "      <td>Water</td>\n",
       "      <td>water</td>\n",
       "      <td>3</td>\n",
       "    </tr>\n",
       "    <tr>\n",
       "      <th>1</th>\n",
       "      <td>Crude Oil</td>\n",
       "      <td>crude-oil</td>\n",
       "      <td>5</td>\n",
       "    </tr>\n",
       "    <tr>\n",
       "      <th>2</th>\n",
       "      <td>Fuel</td>\n",
       "      <td>fuel</td>\n",
       "      <td>5</td>\n",
       "    </tr>\n",
       "    <tr>\n",
       "      <th>3</th>\n",
       "      <td>Turbofuel</td>\n",
       "      <td>turbofuel</td>\n",
       "      <td>6</td>\n",
       "    </tr>\n",
       "    <tr>\n",
       "      <th>4</th>\n",
       "      <td>Heavy Oil Residue</td>\n",
       "      <td>heavy-oil-residue</td>\n",
       "      <td>5</td>\n",
       "    </tr>\n",
       "    <tr>\n",
       "      <th>5</th>\n",
       "      <td>Liquid Biofuel</td>\n",
       "      <td>liquid-biofuel</td>\n",
       "      <td>5</td>\n",
       "    </tr>\n",
       "    <tr>\n",
       "      <th>6</th>\n",
       "      <td>Alumina Solution</td>\n",
       "      <td>alumina-solution</td>\n",
       "      <td>7</td>\n",
       "    </tr>\n",
       "    <tr>\n",
       "      <th>7</th>\n",
       "      <td>Sulfuric Acid</td>\n",
       "      <td>sulfuric-acid</td>\n",
       "      <td>7</td>\n",
       "    </tr>\n",
       "    <tr>\n",
       "      <th>8</th>\n",
       "      <td>Nitrogen Gas</td>\n",
       "      <td>nitrogen-gas</td>\n",
       "      <td>8</td>\n",
       "    </tr>\n",
       "    <tr>\n",
       "      <th>9</th>\n",
       "      <td>Nitric Acid</td>\n",
       "      <td>nitric-acid</td>\n",
       "      <td>8</td>\n",
       "    </tr>\n",
       "    <tr>\n",
       "      <th>10</th>\n",
       "      <td>Dissolved Silica</td>\n",
       "      <td>dissolved-silica</td>\n",
       "      <td>8</td>\n",
       "    </tr>\n",
       "    <tr>\n",
       "      <th>11</th>\n",
       "      <td>Rocket Fuel</td>\n",
       "      <td>rocket-fuel</td>\n",
       "      <td>8</td>\n",
       "    </tr>\n",
       "    <tr>\n",
       "      <th>12</th>\n",
       "      <td>Dark Matter Residue</td>\n",
       "      <td>dark-matter-residue</td>\n",
       "      <td>9</td>\n",
       "    </tr>\n",
       "    <tr>\n",
       "      <th>13</th>\n",
       "      <td>Excited Photonic Matter</td>\n",
       "      <td>excited-photonic-matter</td>\n",
       "      <td>9</td>\n",
       "    </tr>\n",
       "    <tr>\n",
       "      <th>14</th>\n",
       "      <td>Ionized Fuel</td>\n",
       "      <td>ionized-fuel</td>\n",
       "      <td>9</td>\n",
       "    </tr>\n",
       "  </tbody>\n",
       "</table>\n",
       "</div>"
      ],
      "text/plain": [
       "                       name                 key_name  tier\n",
       "0                     Water                    water     3\n",
       "1                 Crude Oil                crude-oil     5\n",
       "2                      Fuel                     fuel     5\n",
       "3                 Turbofuel                turbofuel     6\n",
       "4         Heavy Oil Residue        heavy-oil-residue     5\n",
       "5            Liquid Biofuel           liquid-biofuel     5\n",
       "6          Alumina Solution         alumina-solution     7\n",
       "7             Sulfuric Acid            sulfuric-acid     7\n",
       "8              Nitrogen Gas             nitrogen-gas     8\n",
       "9               Nitric Acid              nitric-acid     8\n",
       "10         Dissolved Silica         dissolved-silica     8\n",
       "11              Rocket Fuel              rocket-fuel     8\n",
       "12      Dark Matter Residue      dark-matter-residue     9\n",
       "13  Excited Photonic Matter  excited-photonic-matter     9\n",
       "14             Ionized Fuel             ionized-fuel     9"
      ]
     },
     "execution_count": 45,
     "metadata": {},
     "output_type": "execute_result"
    }
   ],
   "source": [
    "fluid_df"
   ]
  },
  {
   "cell_type": "code",
   "execution_count": 47,
   "id": "6e7a6247",
   "metadata": {
    "scrolled": true
   },
   "outputs": [],
   "source": [
    "missing_scores = (all_ingredients | all_products) - all_scoreables - NO_SINK_ENTRY"
   ]
  },
  {
   "cell_type": "code",
   "execution_count": 48,
   "id": "d24ec698",
   "metadata": {},
   "outputs": [],
   "source": [
    "if len(missing_scores):\n",
    "    print('MISSING: ', missing_scores)\n",
    "    raise ValueError"
   ]
  },
  {
   "cell_type": "code",
   "execution_count": null,
   "id": "f2fab5a8",
   "metadata": {},
   "outputs": [],
   "source": []
  },
  {
   "cell_type": "code",
   "execution_count": null,
   "id": "af9c9cc9",
   "metadata": {},
   "outputs": [],
   "source": []
  },
  {
   "cell_type": "code",
   "execution_count": null,
   "id": "308ec364",
   "metadata": {},
   "outputs": [],
   "source": []
  },
  {
   "cell_type": "code",
   "execution_count": null,
   "id": "7552e702",
   "metadata": {},
   "outputs": [],
   "source": []
  },
  {
   "cell_type": "markdown",
   "id": "89dbb941",
   "metadata": {},
   "source": [
    "### Setup/Solve LP!"
   ]
  },
  {
   "cell_type": "code",
   "execution_count": 49,
   "id": "f48ebc5a",
   "metadata": {},
   "outputs": [
    {
     "data": {
      "text/plain": [
       "\"\\nhow on earth do I make a linear program again???\\n\\nscipy API:\\n    params: A_ub, b_ub, A_eq, b_eq, (lb, ub)\\n    integrality: [0,3]; each int is method of considering problem; 3:= integers & 0 acceptable\\n\\n    min c.T @ X\\n    s.t.\\n    A_{ub}x <= b_{ub}\\n    A_{eq}x == b_{eq}\\n    lb <= x <= ub\\n\\n\\nX: baseline: how many of each item am I making\\nC: associated score\\n\\nIssue:\\n    items get used as ingredients don't get scored, but you'd want to use them potentially\\n    So need to duplicate all items:\\n        [items1, items2]\\n        items\\n\\n\""
      ]
     },
     "execution_count": 49,
     "metadata": {},
     "output_type": "execute_result"
    }
   ],
   "source": [
    "\"\"\"\n",
    "how on earth do I make a linear program again???\n",
    "\n",
    "scipy API:\n",
    "    params: A_ub, b_ub, A_eq, b_eq, (lb, ub)\n",
    "    integrality: [0,3]; each int is method of considering problem; 3:= integers & 0 acceptable\n",
    "\n",
    "    min c.T @ X\n",
    "    s.t.\n",
    "    A_{ub}x <= b_{ub}\n",
    "    A_{eq}x == b_{eq}\n",
    "    lb <= x <= ub\n",
    "\n",
    "\n",
    "X: baseline: how many of each item am I making\n",
    "C: associated score\n",
    "\n",
    "Issue:\n",
    "    items get used as ingredients don't get scored, but you'd want to use them potentially\n",
    "    So need to duplicate all items:\n",
    "        [items1, items2]\n",
    "        items\n",
    "\n",
    "\"\"\"\n"
   ]
  },
  {
   "cell_type": "code",
   "execution_count": 55,
   "id": "bb8aaeb2",
   "metadata": {},
   "outputs": [],
   "source": [
    "base_inputs_test = {\n",
    "    'iron-ore' : 1000,\n",
    "}\n",
    "base_inputs_irl = {\n",
    "    'coal' : 42300,\n",
    "    'crude-oil' : 12600,\n",
    "    'nitrogen-gas' : 12000,\n",
    "    'bauxite' : 12300,\n",
    "    'copper-ore': 36900,\n",
    "    'caterium-ore' : 15000,\n",
    "    'iron-ore' : 92100,\n",
    "    'uranium' : 2100,\n",
    "    'raw-quartz' : 13500,\n",
    "    'sam' : 10200,\n",
    "    'limestone' : 69300,\n",
    "    'sulfur' : 10800,\n",
    "    'water' : 131250,\n",
    "    'excited-photonic-matter' : 10000,\n",
    "}\n",
    "\n",
    "for key in base_items:\n",
    "    key = key.lower().replace(' ', '-')\n",
    "    if key in base_inputs_irl:\n",
    "        continue\n",
    "    base_inputs_irl[key] = 0\n",
    "\n",
    "\n",
    "base_inputs_irl = base_inputs_irl | {x_processed : 0 for x in base_items if (not (x_processed:=x.lower().replace(' ', '-'))) in base_inputs_irl}"
   ]
  },
  {
   "cell_type": "code",
   "execution_count": 50,
   "id": "edfa0929",
   "metadata": {},
   "outputs": [],
   "source": [
    "from scipy.optimize import linprog"
   ]
  },
  {
   "cell_type": "code",
   "execution_count": 51,
   "id": "9ee178a2",
   "metadata": {},
   "outputs": [
    {
     "data": {
      "text/html": [
       "<div>\n",
       "<style scoped>\n",
       "    .dataframe tbody tr th:only-of-type {\n",
       "        vertical-align: middle;\n",
       "    }\n",
       "\n",
       "    .dataframe tbody tr th {\n",
       "        vertical-align: top;\n",
       "    }\n",
       "\n",
       "    .dataframe thead th {\n",
       "        text-align: right;\n",
       "    }\n",
       "</style>\n",
       "<table border=\"1\" class=\"dataframe\">\n",
       "  <thead>\n",
       "    <tr style=\"text-align: right;\">\n",
       "      <th></th>\n",
       "      <th>name</th>\n",
       "      <th>key_name</th>\n",
       "      <th>category</th>\n",
       "      <th>time</th>\n",
       "      <th>ingredients</th>\n",
       "      <th>products</th>\n",
       "      <th>power_range</th>\n",
       "      <th>power_rate</th>\n",
       "    </tr>\n",
       "  </thead>\n",
       "  <tbody>\n",
       "    <tr>\n",
       "      <th>0</th>\n",
       "      <td>Iron Ingot</td>\n",
       "      <td>iron-ingot</td>\n",
       "      <td>smelting1</td>\n",
       "      <td>2.0</td>\n",
       "      <td>[[iron-ore, 1]]</td>\n",
       "      <td>[[iron-ingot, 1]]</td>\n",
       "      <td>NaN</td>\n",
       "      <td>4</td>\n",
       "    </tr>\n",
       "    <tr>\n",
       "      <th>1</th>\n",
       "      <td>Alternate: Iron Alloy Ingot</td>\n",
       "      <td>alt-iron-ingot</td>\n",
       "      <td>smelting2</td>\n",
       "      <td>12.0</td>\n",
       "      <td>[[iron-ore, 8], [copper-ore, 2]]</td>\n",
       "      <td>[[iron-ingot, 15]]</td>\n",
       "      <td>NaN</td>\n",
       "      <td>16</td>\n",
       "    </tr>\n",
       "    <tr>\n",
       "      <th>2</th>\n",
       "      <td>Alternate: Pure Iron Ingot</td>\n",
       "      <td>alt-pure-iron-ingot</td>\n",
       "      <td>refining</td>\n",
       "      <td>12.0</td>\n",
       "      <td>[[iron-ore, 7], [water, 4]]</td>\n",
       "      <td>[[iron-ingot, 13]]</td>\n",
       "      <td>NaN</td>\n",
       "      <td>30</td>\n",
       "    </tr>\n",
       "    <tr>\n",
       "      <th>3</th>\n",
       "      <td>Alternate: Leached Iron Ingot</td>\n",
       "      <td>alt-leached-iron-ingot</td>\n",
       "      <td>refining</td>\n",
       "      <td>6.0</td>\n",
       "      <td>[[iron-ore, 5], [sulfuric-acid, 1]]</td>\n",
       "      <td>[[iron-ingot, 10]]</td>\n",
       "      <td>NaN</td>\n",
       "      <td>30</td>\n",
       "    </tr>\n",
       "    <tr>\n",
       "      <th>4</th>\n",
       "      <td>Copper Ingot</td>\n",
       "      <td>copper-ingot</td>\n",
       "      <td>smelting1</td>\n",
       "      <td>2.0</td>\n",
       "      <td>[[copper-ore, 1]]</td>\n",
       "      <td>[[copper-ingot, 1]]</td>\n",
       "      <td>NaN</td>\n",
       "      <td>4</td>\n",
       "    </tr>\n",
       "    <tr>\n",
       "      <th>...</th>\n",
       "      <td>...</td>\n",
       "      <td>...</td>\n",
       "      <td>...</td>\n",
       "      <td>...</td>\n",
       "      <td>...</td>\n",
       "      <td>...</td>\n",
       "      <td>...</td>\n",
       "      <td>...</td>\n",
       "    </tr>\n",
       "    <tr>\n",
       "      <th>267</th>\n",
       "      <td>Uranium</td>\n",
       "      <td>uranium</td>\n",
       "      <td>base</td>\n",
       "      <td>0.0</td>\n",
       "      <td>[]</td>\n",
       "      <td>[[uranium, 1]]</td>\n",
       "      <td>NaN</td>\n",
       "      <td>0</td>\n",
       "    </tr>\n",
       "    <tr>\n",
       "      <th>268</th>\n",
       "      <td>Nitrogen Gas</td>\n",
       "      <td>nitrogen-gas</td>\n",
       "      <td>base</td>\n",
       "      <td>0.0</td>\n",
       "      <td>[]</td>\n",
       "      <td>[[nitrogen-gas, 1]]</td>\n",
       "      <td>NaN</td>\n",
       "      <td>0</td>\n",
       "    </tr>\n",
       "    <tr>\n",
       "      <th>269</th>\n",
       "      <td>Water</td>\n",
       "      <td>water</td>\n",
       "      <td>base</td>\n",
       "      <td>0.0</td>\n",
       "      <td>[]</td>\n",
       "      <td>[[water, 1]]</td>\n",
       "      <td>NaN</td>\n",
       "      <td>0</td>\n",
       "    </tr>\n",
       "    <tr>\n",
       "      <th>270</th>\n",
       "      <td>Crude Oil</td>\n",
       "      <td>crude-oil</td>\n",
       "      <td>base</td>\n",
       "      <td>0.0</td>\n",
       "      <td>[]</td>\n",
       "      <td>[[crude-oil, 1]]</td>\n",
       "      <td>NaN</td>\n",
       "      <td>0</td>\n",
       "    </tr>\n",
       "    <tr>\n",
       "      <th>271</th>\n",
       "      <td>SAM</td>\n",
       "      <td>sam</td>\n",
       "      <td>base</td>\n",
       "      <td>0.0</td>\n",
       "      <td>[]</td>\n",
       "      <td>[[sam, 1]]</td>\n",
       "      <td>NaN</td>\n",
       "      <td>0</td>\n",
       "    </tr>\n",
       "  </tbody>\n",
       "</table>\n",
       "<p>272 rows × 8 columns</p>\n",
       "</div>"
      ],
      "text/plain": [
       "                              name                key_name   category  time  \\\n",
       "0                       Iron Ingot              iron-ingot  smelting1   2.0   \n",
       "1      Alternate: Iron Alloy Ingot          alt-iron-ingot  smelting2  12.0   \n",
       "2       Alternate: Pure Iron Ingot     alt-pure-iron-ingot   refining  12.0   \n",
       "3    Alternate: Leached Iron Ingot  alt-leached-iron-ingot   refining   6.0   \n",
       "4                     Copper Ingot            copper-ingot  smelting1   2.0   \n",
       "..                             ...                     ...        ...   ...   \n",
       "267                        Uranium                 uranium       base   0.0   \n",
       "268                   Nitrogen Gas            nitrogen-gas       base   0.0   \n",
       "269                          Water                   water       base   0.0   \n",
       "270                      Crude Oil               crude-oil       base   0.0   \n",
       "271                            SAM                     sam       base   0.0   \n",
       "\n",
       "                             ingredients             products power_range  \\\n",
       "0                        [[iron-ore, 1]]    [[iron-ingot, 1]]         NaN   \n",
       "1       [[iron-ore, 8], [copper-ore, 2]]   [[iron-ingot, 15]]         NaN   \n",
       "2            [[iron-ore, 7], [water, 4]]   [[iron-ingot, 13]]         NaN   \n",
       "3    [[iron-ore, 5], [sulfuric-acid, 1]]   [[iron-ingot, 10]]         NaN   \n",
       "4                      [[copper-ore, 1]]  [[copper-ingot, 1]]         NaN   \n",
       "..                                   ...                  ...         ...   \n",
       "267                                   []       [[uranium, 1]]         NaN   \n",
       "268                                   []  [[nitrogen-gas, 1]]         NaN   \n",
       "269                                   []         [[water, 1]]         NaN   \n",
       "270                                   []     [[crude-oil, 1]]         NaN   \n",
       "271                                   []           [[sam, 1]]         NaN   \n",
       "\n",
       "     power_rate  \n",
       "0             4  \n",
       "1            16  \n",
       "2            30  \n",
       "3            30  \n",
       "4             4  \n",
       "..          ...  \n",
       "267           0  \n",
       "268           0  \n",
       "269           0  \n",
       "270           0  \n",
       "271           0  \n",
       "\n",
       "[272 rows x 8 columns]"
      ]
     },
     "execution_count": 51,
     "metadata": {},
     "output_type": "execute_result"
    }
   ],
   "source": [
    "recipe_df"
   ]
  },
  {
   "cell_type": "code",
   "execution_count": 53,
   "id": "d69b93f9",
   "metadata": {},
   "outputs": [
    {
     "data": {
      "text/html": [
       "<div>\n",
       "<style scoped>\n",
       "    .dataframe tbody tr th:only-of-type {\n",
       "        vertical-align: middle;\n",
       "    }\n",
       "\n",
       "    .dataframe tbody tr th {\n",
       "        vertical-align: top;\n",
       "    }\n",
       "\n",
       "    .dataframe thead th {\n",
       "        text-align: right;\n",
       "    }\n",
       "</style>\n",
       "<table border=\"1\" class=\"dataframe\">\n",
       "  <thead>\n",
       "    <tr style=\"text-align: right;\">\n",
       "      <th></th>\n",
       "      <th>points</th>\n",
       "      <th>item</th>\n",
       "      <th>key_name</th>\n",
       "    </tr>\n",
       "  </thead>\n",
       "  <tbody>\n",
       "    <tr>\n",
       "      <th>0</th>\n",
       "      <td>1</td>\n",
       "      <td>Iron Ore</td>\n",
       "      <td>iron-ore</td>\n",
       "    </tr>\n",
       "    <tr>\n",
       "      <th>1</th>\n",
       "      <td>2</td>\n",
       "      <td>Iron Ingot</td>\n",
       "      <td>iron-ingot</td>\n",
       "    </tr>\n",
       "    <tr>\n",
       "      <th>2</th>\n",
       "      <td>2</td>\n",
       "      <td>Screw</td>\n",
       "      <td>screw</td>\n",
       "    </tr>\n",
       "    <tr>\n",
       "      <th>3</th>\n",
       "      <td>2</td>\n",
       "      <td>Limestone</td>\n",
       "      <td>limestone</td>\n",
       "    </tr>\n",
       "    <tr>\n",
       "      <th>4</th>\n",
       "      <td>3</td>\n",
       "      <td>Coal</td>\n",
       "      <td>coal</td>\n",
       "    </tr>\n",
       "    <tr>\n",
       "      <th>...</th>\n",
       "      <td>...</td>\n",
       "      <td>...</td>\n",
       "      <td>...</td>\n",
       "    </tr>\n",
       "    <tr>\n",
       "      <th>131</th>\n",
       "      <td>20</td>\n",
       "      <td>SAM</td>\n",
       "      <td>sam</td>\n",
       "    </tr>\n",
       "    <tr>\n",
       "      <th>132</th>\n",
       "      <td>1968</td>\n",
       "      <td>SAM Fluctuator</td>\n",
       "      <td>sam-fluctuator</td>\n",
       "    </tr>\n",
       "    <tr>\n",
       "      <th>133</th>\n",
       "      <td>114675</td>\n",
       "      <td>Singularity Cell</td>\n",
       "      <td>singularity-cell</td>\n",
       "    </tr>\n",
       "    <tr>\n",
       "      <th>134</th>\n",
       "      <td>37292</td>\n",
       "      <td>Superposition Oscillator</td>\n",
       "      <td>superposition-oscillator</td>\n",
       "    </tr>\n",
       "    <tr>\n",
       "      <th>135</th>\n",
       "      <td>960</td>\n",
       "      <td>Time Crystal</td>\n",
       "      <td>time-crystal</td>\n",
       "    </tr>\n",
       "  </tbody>\n",
       "</table>\n",
       "<p>136 rows × 3 columns</p>\n",
       "</div>"
      ],
      "text/plain": [
       "     points                      item                  key_name\n",
       "0         1                  Iron Ore                  iron-ore\n",
       "1         2                Iron Ingot                iron-ingot\n",
       "2         2                     Screw                     screw\n",
       "3         2                 Limestone                 limestone\n",
       "4         3                      Coal                      coal\n",
       "..      ...                       ...                       ...\n",
       "131      20                       SAM                       sam\n",
       "132    1968            SAM Fluctuator            sam-fluctuator\n",
       "133  114675          Singularity Cell          singularity-cell\n",
       "134   37292  Superposition Oscillator  superposition-oscillator\n",
       "135     960              Time Crystal              time-crystal\n",
       "\n",
       "[136 rows x 3 columns]"
      ]
     },
     "execution_count": 53,
     "metadata": {},
     "output_type": "execute_result"
    }
   ],
   "source": [
    "points_df"
   ]
  },
  {
   "cell_type": "code",
   "execution_count": 109,
   "id": "465a8609",
   "metadata": {},
   "outputs": [],
   "source": [
    "def lp_solve(pdf, rdf, base_inputs):\n",
    "    #pdf = points_df, rdf=recipe_df\n",
    "    pdf = pdf.copy()\n",
    "    rdf = rdf.copy()\n",
    "    point_mapper = pdf.set_index('key_name')['points'].to_dict()\n",
    "    \n",
    "    \n",
    "    all_recipe_items = sorted(list(set(rdf['ingredients'].explode().dropna().apply(lambda x: x[0]).tolist() + rdf['products'].explode().dropna().apply(lambda x: x[0]).tolist())))\n",
    "    \n",
    "    trash_df = pd.DataFrame.from_records([[f'{item} Trash', f'{item}-trash', 'sink', 0, [[item, 1]], [], np.nan, 0] for item in all_recipe_items if item in point_mapper], columns = list(rdf))\n",
    "    rdf = pd.concat([rdf, trash_df], axis=0).reset_index(drop=True)    \n",
    "    rdf['id'] = np.arange(rdf.shape[0])\n",
    "\n",
    "    \n",
    "#     display(pdf)\n",
    "#     display(rdf)\n",
    "#     sys.exit()\n",
    "    \n",
    "    \n",
    "    recipe_constraint_row_order = {ing : i for i, ing in enumerate(all_recipe_items)}\n",
    "    inv_recipe_constraint_row_order = {ing : i for i, ing in enumerate(all_recipe_items)}\n",
    "    \n",
    "    constraint_matrix = np.zeros((len(all_recipe_items), rdf.shape[0]))\n",
    "    constraint_values = np.zeros(len(all_recipe_items))\n",
    "    \n",
    "    def build_recipe_constraints(row):\n",
    "        ingr_list = row['ingredients']\n",
    "        products = row['products']\n",
    "        col_idx = row['id']\n",
    "        \n",
    "        \n",
    "        if not len(ingr_list):\n",
    "            base_amount = base_inputs[row['key_name']]\n",
    "            constraint_values[recipe_constraint_row_order[row['key_name']]] = base_amount\n",
    "        else:\n",
    "            for ingr, qty in ingr_list:\n",
    "                constraint_matrix[recipe_constraint_row_order[ingr], col_idx] = qty\n",
    "            if len(products):\n",
    "                for prod, qty in products:\n",
    "                    constraint_matrix[recipe_constraint_row_order[prod], col_idx] = -qty\n",
    "                \n",
    "    \n",
    "    rdf.apply(build_recipe_constraints, axis=1)\n",
    "            \n",
    "            \n",
    "#     print(constraint_matrix)\n",
    "#     print(constraint_values)\n",
    "    \n",
    "    maximize_vec = np.array([0] *(rdf.shape[0] - len(all_recipe_items)) + [point_mapper[item] if item in point_mapper else -10_000 for item in all_recipe_items])\n",
    "    \n",
    "\n",
    "    print(constraint_matrix.shape, constraint_values.shape, maximize_vec.shape)\n",
    "    lp_res = linprog(-maximize_vec, A_ub=None, b_ub=None, A_eq=constraint_matrix, b_eq=constraint_values, bounds=(0, None), method='highs', callback=None, options=None, x0=None, integrality=3)\n",
    "    \n",
    "    values = lp_res.x\n",
    "    \n",
    "    rdf['qty_produce'] = values\n",
    "    \n",
    "    display(rdf.sort_values('qty_produce', ascending=False))\n",
    "    \n",
    "    return lp_res\n",
    "    "
   ]
  },
  {
   "cell_type": "code",
   "execution_count": 110,
   "id": "e99df347",
   "metadata": {},
   "outputs": [],
   "source": [
    "eg_points = points_df[points_df['key_name'].isin({'iron-ore', 'iron-ingot', 'iron-plate', 'iron-rod'})].reset_index(drop=True).copy()\n",
    "eg_recipes = recipe_df[recipe_df['key_name'].isin({'iron-ingot', 'iron-plate', 'iron-ore', 'iron-rod'})].reset_index(drop=True).copy()"
   ]
  },
  {
   "cell_type": "code",
   "execution_count": 111,
   "id": "cb3bc0f2",
   "metadata": {
    "scrolled": true
   },
   "outputs": [
    {
     "name": "stdout",
     "output_type": "stream",
     "text": [
      "(4, 8) (4,) (8,)\n"
     ]
    },
    {
     "data": {
      "text/html": [
       "<div>\n",
       "<style scoped>\n",
       "    .dataframe tbody tr th:only-of-type {\n",
       "        vertical-align: middle;\n",
       "    }\n",
       "\n",
       "    .dataframe tbody tr th {\n",
       "        vertical-align: top;\n",
       "    }\n",
       "\n",
       "    .dataframe thead th {\n",
       "        text-align: right;\n",
       "    }\n",
       "</style>\n",
       "<table border=\"1\" class=\"dataframe\">\n",
       "  <thead>\n",
       "    <tr style=\"text-align: right;\">\n",
       "      <th></th>\n",
       "      <th>name</th>\n",
       "      <th>key_name</th>\n",
       "      <th>category</th>\n",
       "      <th>time</th>\n",
       "      <th>ingredients</th>\n",
       "      <th>products</th>\n",
       "      <th>power_range</th>\n",
       "      <th>power_rate</th>\n",
       "      <th>id</th>\n",
       "      <th>qty_produce</th>\n",
       "    </tr>\n",
       "  </thead>\n",
       "  <tbody>\n",
       "    <tr>\n",
       "      <th>0</th>\n",
       "      <td>Iron Ingot</td>\n",
       "      <td>iron-ingot</td>\n",
       "      <td>smelting1</td>\n",
       "      <td>2.0</td>\n",
       "      <td>[[iron-ore, 1]]</td>\n",
       "      <td>[[iron-ingot, 1]]</td>\n",
       "      <td>NaN</td>\n",
       "      <td>4</td>\n",
       "      <td>0</td>\n",
       "      <td>1000.0</td>\n",
       "    </tr>\n",
       "    <tr>\n",
       "      <th>2</th>\n",
       "      <td>Iron Rod</td>\n",
       "      <td>iron-rod</td>\n",
       "      <td>crafting1</td>\n",
       "      <td>4.0</td>\n",
       "      <td>[[iron-ingot, 1]]</td>\n",
       "      <td>[[iron-rod, 1]]</td>\n",
       "      <td>NaN</td>\n",
       "      <td>4</td>\n",
       "      <td>2</td>\n",
       "      <td>1000.0</td>\n",
       "    </tr>\n",
       "    <tr>\n",
       "      <th>7</th>\n",
       "      <td>iron-rod Trash</td>\n",
       "      <td>iron-rod-trash</td>\n",
       "      <td>sink</td>\n",
       "      <td>0.0</td>\n",
       "      <td>[[iron-rod, 1]]</td>\n",
       "      <td>[]</td>\n",
       "      <td>NaN</td>\n",
       "      <td>0</td>\n",
       "      <td>7</td>\n",
       "      <td>1000.0</td>\n",
       "    </tr>\n",
       "    <tr>\n",
       "      <th>1</th>\n",
       "      <td>Iron Plate</td>\n",
       "      <td>iron-plate</td>\n",
       "      <td>crafting1</td>\n",
       "      <td>6.0</td>\n",
       "      <td>[[iron-ingot, 3]]</td>\n",
       "      <td>[[iron-plate, 2]]</td>\n",
       "      <td>NaN</td>\n",
       "      <td>4</td>\n",
       "      <td>1</td>\n",
       "      <td>0.0</td>\n",
       "    </tr>\n",
       "    <tr>\n",
       "      <th>3</th>\n",
       "      <td>Iron Ore</td>\n",
       "      <td>iron-ore</td>\n",
       "      <td>base</td>\n",
       "      <td>0.0</td>\n",
       "      <td>[]</td>\n",
       "      <td>[[iron-ore, 1]]</td>\n",
       "      <td>NaN</td>\n",
       "      <td>0</td>\n",
       "      <td>3</td>\n",
       "      <td>0.0</td>\n",
       "    </tr>\n",
       "    <tr>\n",
       "      <th>4</th>\n",
       "      <td>iron-ingot Trash</td>\n",
       "      <td>iron-ingot-trash</td>\n",
       "      <td>sink</td>\n",
       "      <td>0.0</td>\n",
       "      <td>[[iron-ingot, 1]]</td>\n",
       "      <td>[]</td>\n",
       "      <td>NaN</td>\n",
       "      <td>0</td>\n",
       "      <td>4</td>\n",
       "      <td>0.0</td>\n",
       "    </tr>\n",
       "    <tr>\n",
       "      <th>5</th>\n",
       "      <td>iron-ore Trash</td>\n",
       "      <td>iron-ore-trash</td>\n",
       "      <td>sink</td>\n",
       "      <td>0.0</td>\n",
       "      <td>[[iron-ore, 1]]</td>\n",
       "      <td>[]</td>\n",
       "      <td>NaN</td>\n",
       "      <td>0</td>\n",
       "      <td>5</td>\n",
       "      <td>0.0</td>\n",
       "    </tr>\n",
       "    <tr>\n",
       "      <th>6</th>\n",
       "      <td>iron-plate Trash</td>\n",
       "      <td>iron-plate-trash</td>\n",
       "      <td>sink</td>\n",
       "      <td>0.0</td>\n",
       "      <td>[[iron-plate, 1]]</td>\n",
       "      <td>[]</td>\n",
       "      <td>NaN</td>\n",
       "      <td>0</td>\n",
       "      <td>6</td>\n",
       "      <td>0.0</td>\n",
       "    </tr>\n",
       "  </tbody>\n",
       "</table>\n",
       "</div>"
      ],
      "text/plain": [
       "               name          key_name   category  time        ingredients  \\\n",
       "0        Iron Ingot        iron-ingot  smelting1   2.0    [[iron-ore, 1]]   \n",
       "2          Iron Rod          iron-rod  crafting1   4.0  [[iron-ingot, 1]]   \n",
       "7    iron-rod Trash    iron-rod-trash       sink   0.0    [[iron-rod, 1]]   \n",
       "1        Iron Plate        iron-plate  crafting1   6.0  [[iron-ingot, 3]]   \n",
       "3          Iron Ore          iron-ore       base   0.0                 []   \n",
       "4  iron-ingot Trash  iron-ingot-trash       sink   0.0  [[iron-ingot, 1]]   \n",
       "5    iron-ore Trash    iron-ore-trash       sink   0.0    [[iron-ore, 1]]   \n",
       "6  iron-plate Trash  iron-plate-trash       sink   0.0  [[iron-plate, 1]]   \n",
       "\n",
       "            products power_range  power_rate  id  qty_produce  \n",
       "0  [[iron-ingot, 1]]         NaN           4   0       1000.0  \n",
       "2    [[iron-rod, 1]]         NaN           4   2       1000.0  \n",
       "7                 []         NaN           0   7       1000.0  \n",
       "1  [[iron-plate, 2]]         NaN           4   1          0.0  \n",
       "3    [[iron-ore, 1]]         NaN           0   3          0.0  \n",
       "4                 []         NaN           0   4          0.0  \n",
       "5                 []         NaN           0   5          0.0  \n",
       "6                 []         NaN           0   6          0.0  "
      ]
     },
     "metadata": {},
     "output_type": "display_data"
    }
   ],
   "source": [
    "res = lp_solve(eg_points, eg_recipes, base_inputs_test)"
   ]
  },
  {
   "cell_type": "code",
   "execution_count": 112,
   "id": "8d69c45e",
   "metadata": {},
   "outputs": [
    {
     "name": "stdout",
     "output_type": "stream",
     "text": [
      "(140, 388) (140,) (388,)\n"
     ]
    },
    {
     "data": {
      "text/html": [
       "<div>\n",
       "<style scoped>\n",
       "    .dataframe tbody tr th:only-of-type {\n",
       "        vertical-align: middle;\n",
       "    }\n",
       "\n",
       "    .dataframe tbody tr th {\n",
       "        vertical-align: top;\n",
       "    }\n",
       "\n",
       "    .dataframe thead th {\n",
       "        text-align: right;\n",
       "    }\n",
       "</style>\n",
       "<table border=\"1\" class=\"dataframe\">\n",
       "  <thead>\n",
       "    <tr style=\"text-align: right;\">\n",
       "      <th></th>\n",
       "      <th>name</th>\n",
       "      <th>key_name</th>\n",
       "      <th>category</th>\n",
       "      <th>time</th>\n",
       "      <th>ingredients</th>\n",
       "      <th>products</th>\n",
       "      <th>power_range</th>\n",
       "      <th>power_rate</th>\n",
       "      <th>id</th>\n",
       "      <th>qty_produce</th>\n",
       "    </tr>\n",
       "  </thead>\n",
       "  <tbody>\n",
       "    <tr>\n",
       "      <th>0</th>\n",
       "      <td>Iron Ingot</td>\n",
       "      <td>iron-ingot</td>\n",
       "      <td>smelting1</td>\n",
       "      <td>2.0</td>\n",
       "      <td>[[iron-ore, 1]]</td>\n",
       "      <td>[[iron-ingot, 1]]</td>\n",
       "      <td>NaN</td>\n",
       "      <td>4</td>\n",
       "      <td>0</td>\n",
       "      <td>None</td>\n",
       "    </tr>\n",
       "    <tr>\n",
       "      <th>1</th>\n",
       "      <td>Alternate: Iron Alloy Ingot</td>\n",
       "      <td>alt-iron-ingot</td>\n",
       "      <td>smelting2</td>\n",
       "      <td>12.0</td>\n",
       "      <td>[[iron-ore, 8], [copper-ore, 2]]</td>\n",
       "      <td>[[iron-ingot, 15]]</td>\n",
       "      <td>NaN</td>\n",
       "      <td>16</td>\n",
       "      <td>1</td>\n",
       "      <td>None</td>\n",
       "    </tr>\n",
       "    <tr>\n",
       "      <th>2</th>\n",
       "      <td>Alternate: Pure Iron Ingot</td>\n",
       "      <td>alt-pure-iron-ingot</td>\n",
       "      <td>refining</td>\n",
       "      <td>12.0</td>\n",
       "      <td>[[iron-ore, 7], [water, 4]]</td>\n",
       "      <td>[[iron-ingot, 13]]</td>\n",
       "      <td>NaN</td>\n",
       "      <td>30</td>\n",
       "      <td>2</td>\n",
       "      <td>None</td>\n",
       "    </tr>\n",
       "    <tr>\n",
       "      <th>3</th>\n",
       "      <td>Alternate: Leached Iron Ingot</td>\n",
       "      <td>alt-leached-iron-ingot</td>\n",
       "      <td>refining</td>\n",
       "      <td>6.0</td>\n",
       "      <td>[[iron-ore, 5], [sulfuric-acid, 1]]</td>\n",
       "      <td>[[iron-ingot, 10]]</td>\n",
       "      <td>NaN</td>\n",
       "      <td>30</td>\n",
       "      <td>3</td>\n",
       "      <td>None</td>\n",
       "    </tr>\n",
       "    <tr>\n",
       "      <th>4</th>\n",
       "      <td>Copper Ingot</td>\n",
       "      <td>copper-ingot</td>\n",
       "      <td>smelting1</td>\n",
       "      <td>2.0</td>\n",
       "      <td>[[copper-ore, 1]]</td>\n",
       "      <td>[[copper-ingot, 1]]</td>\n",
       "      <td>NaN</td>\n",
       "      <td>4</td>\n",
       "      <td>4</td>\n",
       "      <td>None</td>\n",
       "    </tr>\n",
       "    <tr>\n",
       "      <th>...</th>\n",
       "      <td>...</td>\n",
       "      <td>...</td>\n",
       "      <td>...</td>\n",
       "      <td>...</td>\n",
       "      <td>...</td>\n",
       "      <td>...</td>\n",
       "      <td>...</td>\n",
       "      <td>...</td>\n",
       "      <td>...</td>\n",
       "      <td>...</td>\n",
       "    </tr>\n",
       "    <tr>\n",
       "      <th>383</th>\n",
       "      <td>uranium Trash</td>\n",
       "      <td>uranium-trash</td>\n",
       "      <td>sink</td>\n",
       "      <td>0.0</td>\n",
       "      <td>[[uranium, 1]]</td>\n",
       "      <td>[]</td>\n",
       "      <td>NaN</td>\n",
       "      <td>0</td>\n",
       "      <td>383</td>\n",
       "      <td>None</td>\n",
       "    </tr>\n",
       "    <tr>\n",
       "      <th>384</th>\n",
       "      <td>uranium-cell Trash</td>\n",
       "      <td>uranium-cell-trash</td>\n",
       "      <td>sink</td>\n",
       "      <td>0.0</td>\n",
       "      <td>[[uranium-cell, 1]]</td>\n",
       "      <td>[]</td>\n",
       "      <td>NaN</td>\n",
       "      <td>0</td>\n",
       "      <td>384</td>\n",
       "      <td>None</td>\n",
       "    </tr>\n",
       "    <tr>\n",
       "      <th>385</th>\n",
       "      <td>uranium-fuel-rod Trash</td>\n",
       "      <td>uranium-fuel-rod-trash</td>\n",
       "      <td>sink</td>\n",
       "      <td>0.0</td>\n",
       "      <td>[[uranium-fuel-rod, 1]]</td>\n",
       "      <td>[]</td>\n",
       "      <td>NaN</td>\n",
       "      <td>0</td>\n",
       "      <td>385</td>\n",
       "      <td>None</td>\n",
       "    </tr>\n",
       "    <tr>\n",
       "      <th>386</th>\n",
       "      <td>versatile-framework Trash</td>\n",
       "      <td>versatile-framework-trash</td>\n",
       "      <td>sink</td>\n",
       "      <td>0.0</td>\n",
       "      <td>[[versatile-framework, 1]]</td>\n",
       "      <td>[]</td>\n",
       "      <td>NaN</td>\n",
       "      <td>0</td>\n",
       "      <td>386</td>\n",
       "      <td>None</td>\n",
       "    </tr>\n",
       "    <tr>\n",
       "      <th>387</th>\n",
       "      <td>wire Trash</td>\n",
       "      <td>wire-trash</td>\n",
       "      <td>sink</td>\n",
       "      <td>0.0</td>\n",
       "      <td>[[wire, 1]]</td>\n",
       "      <td>[]</td>\n",
       "      <td>NaN</td>\n",
       "      <td>0</td>\n",
       "      <td>387</td>\n",
       "      <td>None</td>\n",
       "    </tr>\n",
       "  </tbody>\n",
       "</table>\n",
       "<p>388 rows × 10 columns</p>\n",
       "</div>"
      ],
      "text/plain": [
       "                              name                   key_name   category  \\\n",
       "0                       Iron Ingot                 iron-ingot  smelting1   \n",
       "1      Alternate: Iron Alloy Ingot             alt-iron-ingot  smelting2   \n",
       "2       Alternate: Pure Iron Ingot        alt-pure-iron-ingot   refining   \n",
       "3    Alternate: Leached Iron Ingot     alt-leached-iron-ingot   refining   \n",
       "4                     Copper Ingot               copper-ingot  smelting1   \n",
       "..                             ...                        ...        ...   \n",
       "383                  uranium Trash              uranium-trash       sink   \n",
       "384             uranium-cell Trash         uranium-cell-trash       sink   \n",
       "385         uranium-fuel-rod Trash     uranium-fuel-rod-trash       sink   \n",
       "386      versatile-framework Trash  versatile-framework-trash       sink   \n",
       "387                     wire Trash                 wire-trash       sink   \n",
       "\n",
       "     time                          ingredients             products  \\\n",
       "0     2.0                      [[iron-ore, 1]]    [[iron-ingot, 1]]   \n",
       "1    12.0     [[iron-ore, 8], [copper-ore, 2]]   [[iron-ingot, 15]]   \n",
       "2    12.0          [[iron-ore, 7], [water, 4]]   [[iron-ingot, 13]]   \n",
       "3     6.0  [[iron-ore, 5], [sulfuric-acid, 1]]   [[iron-ingot, 10]]   \n",
       "4     2.0                    [[copper-ore, 1]]  [[copper-ingot, 1]]   \n",
       "..    ...                                  ...                  ...   \n",
       "383   0.0                       [[uranium, 1]]                   []   \n",
       "384   0.0                  [[uranium-cell, 1]]                   []   \n",
       "385   0.0              [[uranium-fuel-rod, 1]]                   []   \n",
       "386   0.0           [[versatile-framework, 1]]                   []   \n",
       "387   0.0                          [[wire, 1]]                   []   \n",
       "\n",
       "    power_range  power_rate   id qty_produce  \n",
       "0           NaN           4    0        None  \n",
       "1           NaN          16    1        None  \n",
       "2           NaN          30    2        None  \n",
       "3           NaN          30    3        None  \n",
       "4           NaN           4    4        None  \n",
       "..          ...         ...  ...         ...  \n",
       "383         NaN           0  383        None  \n",
       "384         NaN           0  384        None  \n",
       "385         NaN           0  385        None  \n",
       "386         NaN           0  386        None  \n",
       "387         NaN           0  387        None  \n",
       "\n",
       "[388 rows x 10 columns]"
      ]
     },
     "metadata": {},
     "output_type": "display_data"
    }
   ],
   "source": [
    "res = lp_solve(points_df, recipe_df, base_inputs_irl)"
   ]
  },
  {
   "cell_type": "code",
   "execution_count": 113,
   "id": "316b65b7",
   "metadata": {},
   "outputs": [
    {
     "data": {
      "text/plain": [
       "       message: The problem is unbounded or infeasible. (HiGHS Status 9: model_status is Primal infeasible or unbounded; primal_status is At lower/fixed bound)\n",
       "       success: False\n",
       "        status: 4\n",
       "           fun: None\n",
       "             x: None\n",
       "           nit: -1\n",
       "         lower:  residual: None\n",
       "                marginals: None\n",
       "         upper:  residual: None\n",
       "                marginals: None\n",
       "         eqlin:  residual: None\n",
       "                marginals: None\n",
       "       ineqlin:  residual: None\n",
       "                marginals: None"
      ]
     },
     "execution_count": 113,
     "metadata": {},
     "output_type": "execute_result"
    }
   ],
   "source": [
    "res"
   ]
  },
  {
   "cell_type": "code",
   "execution_count": null,
   "id": "b5be8ef4",
   "metadata": {},
   "outputs": [],
   "source": []
  },
  {
   "cell_type": "code",
   "execution_count": null,
   "id": "f4cb1eb8",
   "metadata": {},
   "outputs": [],
   "source": []
  },
  {
   "cell_type": "code",
   "execution_count": null,
   "id": "483c7903",
   "metadata": {},
   "outputs": [],
   "source": []
  },
  {
   "cell_type": "code",
   "execution_count": null,
   "id": "bcad3e60",
   "metadata": {},
   "outputs": [],
   "source": []
  },
  {
   "cell_type": "code",
   "execution_count": null,
   "id": "b448d213",
   "metadata": {},
   "outputs": [],
   "source": []
  },
  {
   "cell_type": "code",
   "execution_count": null,
   "id": "f01bfdd1",
   "metadata": {},
   "outputs": [],
   "source": []
  },
  {
   "cell_type": "code",
   "execution_count": null,
   "id": "f68210df",
   "metadata": {},
   "outputs": [],
   "source": []
  },
  {
   "cell_type": "code",
   "execution_count": null,
   "id": "09b9ad3b",
   "metadata": {},
   "outputs": [],
   "source": []
  },
  {
   "cell_type": "code",
   "execution_count": null,
   "id": "e49b89c6",
   "metadata": {},
   "outputs": [],
   "source": []
  },
  {
   "cell_type": "code",
   "execution_count": null,
   "id": "788296b4",
   "metadata": {},
   "outputs": [],
   "source": []
  },
  {
   "cell_type": "code",
   "execution_count": null,
   "id": "204e4602",
   "metadata": {},
   "outputs": [],
   "source": [
    "# recipe_df[recipe_df['products'].apply(lambda x: any(['compacted' in y[0] for y in x]))]"
   ]
  },
  {
   "cell_type": "code",
   "execution_count": null,
   "id": "0d8fccf0",
   "metadata": {},
   "outputs": [],
   "source": [
    "# ingredient_renaming = {\n",
    "#     'compacted-coal' : 'alt-coal',\n",
    "#     'heavy-oil-residue' : 'alt-heavy-oil-residue',\n",
    "#     'alien-protien' : 'biomass-from-alien-protien',\n",
    "#     'polymer-resin' : 'alt-polymer-resin',\n",
    "#     'dissolved-silica' : 'alt-distilled-silica'\n",
    "# }\n",
    "# recipe_df['ingredients'] = recipe_df['ingredients'].apply(lambda x: [[ingredient_renaming.get(y[0], y[0]), y[1]] if len(y) else y for y in x])\n",
    "# recipe_df['products'] = recipe_df['products'].apply(lambda x: [[ingredient_renaming.get(y[0], y[0]), y[1]] if len(y) else y for y in x])"
   ]
  },
  {
   "cell_type": "code",
   "execution_count": null,
   "id": "01a3c707",
   "metadata": {},
   "outputs": [],
   "source": []
  },
  {
   "cell_type": "code",
   "execution_count": null,
   "id": "c3b016ba",
   "metadata": {},
   "outputs": [],
   "source": []
  },
  {
   "cell_type": "code",
   "execution_count": null,
   "id": "7cf81259",
   "metadata": {},
   "outputs": [],
   "source": []
  },
  {
   "cell_type": "code",
   "execution_count": null,
   "id": "3753d145",
   "metadata": {},
   "outputs": [],
   "source": []
  },
  {
   "cell_type": "code",
   "execution_count": null,
   "id": "3a4f2546",
   "metadata": {
    "scrolled": false
   },
   "outputs": [],
   "source": [
    "list(recipe_df)"
   ]
  },
  {
   "cell_type": "code",
   "execution_count": null,
   "id": "86ad146f",
   "metadata": {},
   "outputs": [],
   "source": []
  },
  {
   "cell_type": "code",
   "execution_count": null,
   "id": "267f8f45",
   "metadata": {
    "scrolled": true
   },
   "outputs": [],
   "source": []
  },
  {
   "cell_type": "code",
   "execution_count": null,
   "id": "587cdfca",
   "metadata": {},
   "outputs": [],
   "source": []
  },
  {
   "cell_type": "code",
   "execution_count": null,
   "id": "4f213675",
   "metadata": {},
   "outputs": [],
   "source": [
    "# recipe_df = recipe_df[~(recipe_df['name'].apply(lambda x:  'Power Shard' in x))].reset_index(drop=True)"
   ]
  },
  {
   "cell_type": "code",
   "execution_count": null,
   "id": "5b8c07e3",
   "metadata": {},
   "outputs": [],
   "source": [
    "# key_renamer = {\n",
    "#     'hog-protein' : 'alien-protein',\n",
    "#     'spitter-protein' : 'alien-protein',\n",
    "#     'stinger-protein' : 'alien-protein',\n",
    "#     'hatcher-protein' : 'alien-protein',\n",
    "#     'biomass-from-wood' : 'biomass',\n",
    "#     'biomass-from-leaves' : 'biomass',\n",
    "#     'biomass-from-mycelia' : 'biomass',\n",
    "#     'biomass-from-alien-protein' : 'biomass',\n",
    "#     'ficsite-ingot-iron' : 'ficsite-ingot',\n",
    "#     'ficsite-ingot-caterium' : 'ficsite-ingot',\n",
    "#     'ficsite-ingot-aluminum' : 'ficsite-ingot'\n",
    "# }\n",
    "# recipe_df['key_name'] = recipe_df['key_name'].apply(lambda x: key_renamer.get(x, x))"
   ]
  },
  {
   "cell_type": "code",
   "execution_count": null,
   "id": "477cc099",
   "metadata": {},
   "outputs": [],
   "source": []
  },
  {
   "cell_type": "code",
   "execution_count": null,
   "id": "b069cceb",
   "metadata": {},
   "outputs": [],
   "source": []
  },
  {
   "cell_type": "code",
   "execution_count": null,
   "id": "a4281209",
   "metadata": {},
   "outputs": [],
   "source": [
    "\n",
    "all_recipe_key_names = set(recipe_df['key_name'])"
   ]
  },
  {
   "cell_type": "code",
   "execution_count": null,
   "id": "03e2787d",
   "metadata": {},
   "outputs": [],
   "source": [
    "len(all_ingredients), len(all_products)"
   ]
  },
  {
   "cell_type": "code",
   "execution_count": null,
   "id": "c1358718",
   "metadata": {},
   "outputs": [],
   "source": [
    "points_df['match'] = points_df['key_name'].apply(lambda x: x in all_products)"
   ]
  },
  {
   "cell_type": "code",
   "execution_count": null,
   "id": "2edfde47",
   "metadata": {
    "scrolled": false
   },
   "outputs": [],
   "source": [
    "# all built m anually/no longer in game\n",
    "points_df[~points_df['match']]"
   ]
  },
  {
   "cell_type": "code",
   "execution_count": null,
   "id": "6bf08ddb",
   "metadata": {},
   "outputs": [],
   "source": [
    "points_df = points_df[points_df['match']].copy()\n",
    "points_df.drop('match', axis=1, inplace=True)"
   ]
  },
  {
   "cell_type": "code",
   "execution_count": null,
   "id": "2a54a2cc",
   "metadata": {},
   "outputs": [],
   "source": [
    "points_df"
   ]
  },
  {
   "cell_type": "code",
   "execution_count": null,
   "id": "c4f7159c",
   "metadata": {
    "scrolled": false
   },
   "outputs": [],
   "source": [
    "recipe_df"
   ]
  },
  {
   "cell_type": "code",
   "execution_count": null,
   "id": "bd1db9fb",
   "metadata": {},
   "outputs": [],
   "source": [
    "# ingredients = recipe_df['ingredients'].explode().dropna().apply(lambda x: x[0] if len(x) else None).dropna().drop_duplicates()"
   ]
  },
  {
   "cell_type": "code",
   "execution_count": null,
   "id": "25d53efc",
   "metadata": {},
   "outputs": [],
   "source": [
    "# misses = ingredients[~ingredients.isin(all_recipe_key_names)]"
   ]
  },
  {
   "cell_type": "code",
   "execution_count": null,
   "id": "3742cb73",
   "metadata": {
    "scrolled": false
   },
   "outputs": [],
   "source": [
    "# assume infinite power slugs, but wanna keep power shards --> remove every recipe that needs a power slug\n",
    "# uranium/plut waste expected since only made as byproducts\n",
    "# misses"
   ]
  },
  {
   "cell_type": "code",
   "execution_count": null,
   "id": "a8258710",
   "metadata": {},
   "outputs": [],
   "source": [
    "recipe_df.shape"
   ]
  },
  {
   "cell_type": "code",
   "execution_count": null,
   "id": "56d4ad11",
   "metadata": {},
   "outputs": [],
   "source": [
    "# def has_power_slug(ingr_list):\n",
    "#     if not len(ingr_list):\n",
    "#         return False\n",
    "#     for i in ingr_list:\n",
    "#         if 'power-slug' in i[0] in i[0]:\n",
    "#             print('YO')\n",
    "#             return True\n",
    "#     return False\n",
    "\n",
    "# recipe_df = recipe_df[~(recipe_df['ingredients'].apply(has_power_slug))]"
   ]
  },
  {
   "cell_type": "code",
   "execution_count": null,
   "id": "6a0b69f6",
   "metadata": {},
   "outputs": [],
   "source": [
    "recipe_df.shape"
   ]
  },
  {
   "cell_type": "code",
   "execution_count": null,
   "id": "4326bba1",
   "metadata": {},
   "outputs": [],
   "source": [
    "# products = recipe_df['products'].explode().dropna().apply(lambda x: x[0] if len(x) else None).dropna().drop_duplicates()"
   ]
  },
  {
   "cell_type": "code",
   "execution_count": null,
   "id": "2c70bef0",
   "metadata": {},
   "outputs": [],
   "source": [
    "# products[~products.isin(all_recipe_key_names)]"
   ]
  },
  {
   "cell_type": "code",
   "execution_count": null,
   "id": "4e45f6b0",
   "metadata": {},
   "outputs": [],
   "source": [
    "recipe_df[recipe_df['key_name'].apply(lambda x: 'miner' in x)]"
   ]
  },
  {
   "cell_type": "code",
   "execution_count": null,
   "id": "4e002eba",
   "metadata": {},
   "outputs": [],
   "source": [
    "recipe_df = recipe_df[~recipe_df['key_name'].isin(['automated-miner'])]"
   ]
  },
  {
   "cell_type": "code",
   "execution_count": null,
   "id": "8ad57247",
   "metadata": {},
   "outputs": [],
   "source": [
    "recipe_df.shape"
   ]
  },
  {
   "cell_type": "code",
   "execution_count": null,
   "id": "a123d4ba",
   "metadata": {},
   "outputs": [],
   "source": [
    "recipe_df.reset_index(drop=True, inplace=True)"
   ]
  },
  {
   "cell_type": "code",
   "execution_count": null,
   "id": "da4efd42",
   "metadata": {
    "scrolled": true
   },
   "outputs": [],
   "source": [
    "recipe_df"
   ]
  },
  {
   "cell_type": "code",
   "execution_count": null,
   "id": "c9c0e717",
   "metadata": {},
   "outputs": [],
   "source": [
    "recipes_by_item = recipe_df.explode('products')\n",
    "recipes_by_item['products'] = recipes_by_item['products'].apply(lambda x: x[0])\n",
    "# recipes_by_item = recipes_by_item.groupby('products')['key_name'].apply(list).to_dict()\n",
    "# for k, v in recipes_by_item.items():\n",
    "#     print(k, v)\n",
    "#     break"
   ]
  },
  {
   "cell_type": "code",
   "execution_count": null,
   "id": "06f16026",
   "metadata": {},
   "outputs": [],
   "source": [
    "points_df"
   ]
  },
  {
   "cell_type": "code",
   "execution_count": null,
   "id": "18582870",
   "metadata": {},
   "outputs": [],
   "source": [
    "all_items = recipe_df['products'].explode().dropna().apply(lambda x: x[0]).drop_duplicates().reset_index(drop=True)"
   ]
  },
  {
   "cell_type": "code",
   "execution_count": null,
   "id": "b265c6b3",
   "metadata": {},
   "outputs": [],
   "source": [
    "all_items"
   ]
  },
  {
   "cell_type": "code",
   "execution_count": null,
   "id": "5c50d745",
   "metadata": {
    "scrolled": false
   },
   "outputs": [],
   "source": [
    "points_df['key_name'].isin(all_items).mean()"
   ]
  },
  {
   "cell_type": "code",
   "execution_count": null,
   "id": "e894ecec",
   "metadata": {},
   "outputs": [],
   "source": []
  },
  {
   "cell_type": "code",
   "execution_count": null,
   "id": "ea4aee9b",
   "metadata": {},
   "outputs": [],
   "source": []
  },
  {
   "cell_type": "code",
   "execution_count": null,
   "id": "17ebb7fb",
   "metadata": {},
   "outputs": [],
   "source": []
  },
  {
   "cell_type": "code",
   "execution_count": null,
   "id": "256e8aba",
   "metadata": {},
   "outputs": [],
   "source": []
  },
  {
   "cell_type": "code",
   "execution_count": null,
   "id": "1915f6a6",
   "metadata": {},
   "outputs": [],
   "source": []
  },
  {
   "cell_type": "code",
   "execution_count": null,
   "id": "581e9fc8",
   "metadata": {},
   "outputs": [],
   "source": []
  },
  {
   "cell_type": "code",
   "execution_count": null,
   "id": "65d13722",
   "metadata": {},
   "outputs": [],
   "source": []
  },
  {
   "cell_type": "code",
   "execution_count": null,
   "id": "ac18dbc8",
   "metadata": {
    "scrolled": true
   },
   "outputs": [],
   "source": [
    "# with pd.option_context('display.max_colwidth', 999):\n",
    "#     display(recipe_df[recipe_df['key_name'].apply(lambda x: 'turbofuel' in x)])"
   ]
  },
  {
   "cell_type": "code",
   "execution_count": null,
   "id": "e25e34aa",
   "metadata": {},
   "outputs": [],
   "source": [
    "with pd.option_context('display.max_colwidth', 999):\n",
    "    display(recipe_df[recipe_df['key_name'].apply(lambda x: 'alt-distilled-silica' in x)])"
   ]
  },
  {
   "cell_type": "code",
   "execution_count": null,
   "id": "1beda383",
   "metadata": {
    "scrolled": true
   },
   "outputs": [],
   "source": [
    "# with pd.option_context('display.max_rows', 999):\n",
    "#     display(points_df)"
   ]
  },
  {
   "cell_type": "code",
   "execution_count": null,
   "id": "6694d9fc",
   "metadata": {
    "scrolled": false
   },
   "outputs": [],
   "source": []
  },
  {
   "cell_type": "code",
   "execution_count": null,
   "id": "9871bce9",
   "metadata": {},
   "outputs": [],
   "source": [
    "points_df.tail(20)"
   ]
  },
  {
   "cell_type": "code",
   "execution_count": null,
   "id": "c1c0f19c",
   "metadata": {},
   "outputs": [],
   "source": []
  },
  {
   "cell_type": "code",
   "execution_count": null,
   "id": "002ea1ae",
   "metadata": {},
   "outputs": [],
   "source": []
  },
  {
   "cell_type": "code",
   "execution_count": null,
   "id": "db1c9860",
   "metadata": {},
   "outputs": [],
   "source": [
    "res"
   ]
  },
  {
   "cell_type": "code",
   "execution_count": null,
   "id": "a77dbaf5",
   "metadata": {},
   "outputs": [],
   "source": []
  },
  {
   "cell_type": "code",
   "execution_count": null,
   "id": "94f99e17",
   "metadata": {},
   "outputs": [],
   "source": []
  },
  {
   "cell_type": "code",
   "execution_count": null,
   "id": "5ddb6cc4",
   "metadata": {},
   "outputs": [],
   "source": []
  },
  {
   "cell_type": "code",
   "execution_count": null,
   "id": "db7298bc",
   "metadata": {},
   "outputs": [],
   "source": []
  },
  {
   "cell_type": "code",
   "execution_count": null,
   "id": "ddc0ed2b",
   "metadata": {},
   "outputs": [],
   "source": []
  },
  {
   "cell_type": "code",
   "execution_count": null,
   "id": "4f4b6ecb",
   "metadata": {},
   "outputs": [],
   "source": [
    "recipe_df[recipe_df['key_name'].apply(lambda x: 'iron' in x)]"
   ]
  },
  {
   "cell_type": "code",
   "execution_count": null,
   "id": "a66141c7",
   "metadata": {},
   "outputs": [],
   "source": []
  },
  {
   "cell_type": "code",
   "execution_count": null,
   "id": "e93d19f7",
   "metadata": {},
   "outputs": [],
   "source": []
  },
  {
   "cell_type": "code",
   "execution_count": null,
   "id": "563a2162",
   "metadata": {},
   "outputs": [],
   "source": []
  },
  {
   "cell_type": "code",
   "execution_count": null,
   "id": "941739b2",
   "metadata": {},
   "outputs": [],
   "source": []
  },
  {
   "cell_type": "code",
   "execution_count": null,
   "id": "6147ffde",
   "metadata": {},
   "outputs": [],
   "source": []
  },
  {
   "cell_type": "code",
   "execution_count": null,
   "id": "3c0fcf79",
   "metadata": {},
   "outputs": [],
   "source": [
    "sys.exit()"
   ]
  },
  {
   "cell_type": "code",
   "execution_count": null,
   "id": "ed5fd6e5",
   "metadata": {},
   "outputs": [],
   "source": []
  },
  {
   "cell_type": "code",
   "execution_count": null,
   "id": "a58ab7e6",
   "metadata": {},
   "outputs": [],
   "source": []
  },
  {
   "cell_type": "code",
   "execution_count": null,
   "id": "3d081b8f",
   "metadata": {},
   "outputs": [],
   "source": []
  },
  {
   "cell_type": "code",
   "execution_count": null,
   "id": "4c4a592a",
   "metadata": {},
   "outputs": [],
   "source": []
  },
  {
   "cell_type": "code",
   "execution_count": null,
   "id": "497b4262",
   "metadata": {},
   "outputs": [],
   "source": []
  },
  {
   "cell_type": "code",
   "execution_count": null,
   "id": "3c5063fd",
   "metadata": {},
   "outputs": [],
   "source": []
  },
  {
   "cell_type": "code",
   "execution_count": null,
   "id": "3f5548ad",
   "metadata": {},
   "outputs": [],
   "source": []
  },
  {
   "cell_type": "code",
   "execution_count": null,
   "id": "c85971f5",
   "metadata": {},
   "outputs": [],
   "source": []
  },
  {
   "cell_type": "code",
   "execution_count": null,
   "id": "af5dcbea",
   "metadata": {},
   "outputs": [],
   "source": []
  },
  {
   "cell_type": "code",
   "execution_count": null,
   "id": "7c0ddc9e",
   "metadata": {},
   "outputs": [],
   "source": []
  },
  {
   "cell_type": "code",
   "execution_count": null,
   "id": "9c3312f6",
   "metadata": {},
   "outputs": [],
   "source": []
  },
  {
   "cell_type": "code",
   "execution_count": null,
   "id": "eecd36a9",
   "metadata": {},
   "outputs": [],
   "source": []
  },
  {
   "cell_type": "code",
   "execution_count": null,
   "id": "2ed4fcd8",
   "metadata": {},
   "outputs": [],
   "source": [
    "for k, v in raw_recipe_info_dict.items():\n",
    "    print(k, v)\n",
    "    break"
   ]
  },
  {
   "cell_type": "code",
   "execution_count": null,
   "id": "ced8561f",
   "metadata": {},
   "outputs": [],
   "source": [
    "recipes_by_item['iron-ingot']"
   ]
  },
  {
   "cell_type": "code",
   "execution_count": null,
   "id": "5100ff7e",
   "metadata": {},
   "outputs": [],
   "source": []
  },
  {
   "cell_type": "code",
   "execution_count": null,
   "id": "6b4f0ce3",
   "metadata": {},
   "outputs": [],
   "source": []
  },
  {
   "cell_type": "code",
   "execution_count": null,
   "id": "a330cb98",
   "metadata": {},
   "outputs": [],
   "source": []
  },
  {
   "cell_type": "code",
   "execution_count": null,
   "id": "6f4b5445",
   "metadata": {},
   "outputs": [],
   "source": [
    "base_key_items"
   ]
  },
  {
   "cell_type": "code",
   "execution_count": null,
   "id": "cdf34307",
   "metadata": {},
   "outputs": [],
   "source": [
    "recipe_dict = {k : [{'ingredients' : [], 'outputs' : k, 'power_rate' : 0}] for k in base_key_items}"
   ]
  },
  {
   "cell_type": "code",
   "execution_count": null,
   "id": "db29ff8e",
   "metadata": {},
   "outputs": [],
   "source": [
    "for k, v in recipe_dict.items():\n",
    "    print(k, v)\n",
    "    break"
   ]
  },
  {
   "cell_type": "code",
   "execution_count": null,
   "id": "4bf23298",
   "metadata": {
    "scrolled": true
   },
   "outputs": [],
   "source": [
    "recipes_by_item['iron-ingot']"
   ]
  },
  {
   "cell_type": "code",
   "execution_count": null,
   "id": "8b8a82b3",
   "metadata": {},
   "outputs": [],
   "source": [
    "recipe_by_item_df = pd.DataFrame.from_dict({k : {'recipes' : v} for k, v in recipes_by_item.items()}, orient='index')\n",
    "recipe_by_item_df = recipe_by_item_df.explode('recipes').reset_index()\n",
    "recipe_by_item_df.columns = ['item', 'recipe_name']"
   ]
  },
  {
   "cell_type": "code",
   "execution_count": null,
   "id": "d505c4ad",
   "metadata": {
    "scrolled": false
   },
   "outputs": [],
   "source": [
    "recipe_by_item_df"
   ]
  },
  {
   "cell_type": "code",
   "execution_count": null,
   "id": "6ad7211e",
   "metadata": {},
   "outputs": [],
   "source": [
    "recipe_df"
   ]
  },
  {
   "cell_type": "code",
   "execution_count": null,
   "id": "ee83b7d3",
   "metadata": {},
   "outputs": [],
   "source": []
  },
  {
   "cell_type": "code",
   "execution_count": null,
   "id": "27119ae5",
   "metadata": {
    "scrolled": true
   },
   "outputs": [],
   "source": [
    "base_recipes"
   ]
  },
  {
   "cell_type": "code",
   "execution_count": null,
   "id": "4536c13d",
   "metadata": {},
   "outputs": [],
   "source": []
  },
  {
   "cell_type": "code",
   "execution_count": null,
   "id": "47b086c1",
   "metadata": {},
   "outputs": [],
   "source": [
    "recipe_df_full"
   ]
  },
  {
   "cell_type": "code",
   "execution_count": null,
   "id": "16cc3b77",
   "metadata": {},
   "outputs": [],
   "source": [
    "tmp = recipe_df_full['ingredients'].explode().dropna()#.apply(lambda x: x[0] if not pd.isnull(x) else None)\n",
    "ingr = tmp[tmp.apply(len) > 0].apply(lambda x: x[0]).drop_duplicates()"
   ]
  },
  {
   "cell_type": "code",
   "execution_count": null,
   "id": "344feb13",
   "metadata": {},
   "outputs": [],
   "source": [
    "found = set(recipe_df_full['key_name'].tolist())"
   ]
  },
  {
   "cell_type": "code",
   "execution_count": null,
   "id": "23f88014",
   "metadata": {},
   "outputs": [],
   "source": [
    "recipe_df_full[recipe_df_full['key_name'].apply(lambda x: 'coal' in x)]"
   ]
  },
  {
   "cell_type": "code",
   "execution_count": null,
   "id": "86f69c0c",
   "metadata": {},
   "outputs": [],
   "source": [
    "ingr[~ingr.isin(found)]"
   ]
  },
  {
   "cell_type": "code",
   "execution_count": null,
   "id": "26b7412f",
   "metadata": {},
   "outputs": [],
   "source": []
  },
  {
   "cell_type": "code",
   "execution_count": null,
   "id": "ae54b0f1",
   "metadata": {},
   "outputs": [],
   "source": []
  },
  {
   "cell_type": "code",
   "execution_count": null,
   "id": "1150a828",
   "metadata": {},
   "outputs": [],
   "source": [
    "seen_bases = set()\n",
    "def add_to_recipe_dict(key):\n",
    "    # base items are in dict b/c they're base, but they have alternate recipes, so do this nonsense check\n",
    "    if k in base_key_items_set and not k in seen_bases or not k in recipe_dict:\n",
    "        # dont' always have reipce for things --> it should be a base --> return\n",
    "        if not key in recipes_by_item:\n",
    "            print(f'No recipes found for {key}; this ok for: SAM, [others?]')\n",
    "            if key in base_key_items_set:\n",
    "                seen_bases.add(k)\n",
    "            return\n",
    "        # what recipes make this item?\n",
    "        this_item_recipes = recipes_by_item[key]\n",
    "        # for each of them\n",
    "        for recipe_name in this_item_recipes:\n",
    "            # figure out what they are exactly\n",
    "            recipe_deets = raw_recipe_info_dict[recipe_name]\n",
    "            # figure out ways to make their children\n",
    "            for ingredient in recipe_deets['ingredients']:\n",
    "                # with the same nonsene child check as above, need to look at the child if it's base and we haven't checked it, or we haven'yt checked it generally\n",
    "                if not ingredient in recipe_dict or (ingredient in recipe_dict and ingredient in base_key_items_set and not ingredient in seen_bases):\n",
    "                    add_to_recipe_dict(ingredient)\n",
    "                    \n",
    "            \n",
    "        \n",
    "        if k in base_key_items_set:\n",
    "            seen_bases.add(k)\n",
    "        \n",
    "        "
   ]
  },
  {
   "cell_type": "code",
   "execution_count": null,
   "id": "032845f2",
   "metadata": {},
   "outputs": [],
   "source": [
    "recipes_by_item['iron-ore']"
   ]
  },
  {
   "cell_type": "code",
   "execution_count": null,
   "id": "ff7cf4e4",
   "metadata": {},
   "outputs": [],
   "source": [
    "# add_to_recipe_dict('iron-ore')"
   ]
  },
  {
   "cell_type": "code",
   "execution_count": null,
   "id": "37708d3d",
   "metadata": {
    "scrolled": true
   },
   "outputs": [],
   "source": [
    "# recipe_dict['iron-ore']"
   ]
  },
  {
   "cell_type": "code",
   "execution_count": null,
   "id": "c582fad2",
   "metadata": {},
   "outputs": [],
   "source": [
    "raw_recipe_info_dict['iron-ore-limestone']"
   ]
  },
  {
   "cell_type": "code",
   "execution_count": null,
   "id": "52ba34db",
   "metadata": {},
   "outputs": [],
   "source": [
    "recipe_dict['reanimated-sam']"
   ]
  },
  {
   "cell_type": "code",
   "execution_count": null,
   "id": "eeeb6730",
   "metadata": {},
   "outputs": [],
   "source": [
    "recipes_by_item['reanimated-sam']"
   ]
  },
  {
   "cell_type": "code",
   "execution_count": null,
   "id": "11dcc307",
   "metadata": {},
   "outputs": [],
   "source": [
    "raw_recipe_info_dict['reanimated-sam']"
   ]
  },
  {
   "cell_type": "code",
   "execution_count": null,
   "id": "28557179",
   "metadata": {
    "scrolled": true
   },
   "outputs": [],
   "source": [
    "recipe_dict['sam']"
   ]
  },
  {
   "cell_type": "code",
   "execution_count": null,
   "id": "14274ae4",
   "metadata": {},
   "outputs": [],
   "source": [
    "recipe_dict['limestone']"
   ]
  },
  {
   "cell_type": "code",
   "execution_count": null,
   "id": "7320df94",
   "metadata": {},
   "outputs": [],
   "source": [
    "recipes_by_item['limestone']"
   ]
  },
  {
   "cell_type": "code",
   "execution_count": null,
   "id": "7250154b",
   "metadata": {},
   "outputs": [],
   "source": [
    "recipe_dict['']"
   ]
  },
  {
   "cell_type": "code",
   "execution_count": null,
   "id": "22841b31",
   "metadata": {},
   "outputs": [],
   "source": []
  },
  {
   "cell_type": "code",
   "execution_count": null,
   "id": "ef3887c2",
   "metadata": {},
   "outputs": [],
   "source": []
  },
  {
   "cell_type": "code",
   "execution_count": null,
   "id": "f7521f0e",
   "metadata": {},
   "outputs": [],
   "source": []
  },
  {
   "cell_type": "code",
   "execution_count": null,
   "id": "5a67c0b4",
   "metadata": {},
   "outputs": [],
   "source": []
  },
  {
   "cell_type": "code",
   "execution_count": null,
   "id": "c1c15c74",
   "metadata": {},
   "outputs": [],
   "source": []
  },
  {
   "cell_type": "code",
   "execution_count": null,
   "id": "a4762052",
   "metadata": {},
   "outputs": [],
   "source": [
    "recipes_by_item['']"
   ]
  },
  {
   "cell_type": "code",
   "execution_count": null,
   "id": "f3bf3eea",
   "metadata": {},
   "outputs": [],
   "source": []
  },
  {
   "cell_type": "code",
   "execution_count": null,
   "id": "c341ec3a",
   "metadata": {},
   "outputs": [],
   "source": []
  },
  {
   "cell_type": "code",
   "execution_count": null,
   "id": "ea8a977a",
   "metadata": {},
   "outputs": [],
   "source": []
  },
  {
   "cell_type": "code",
   "execution_count": null,
   "id": "2b8727c5",
   "metadata": {},
   "outputs": [],
   "source": []
  },
  {
   "cell_type": "code",
   "execution_count": null,
   "id": "5c339fe2",
   "metadata": {},
   "outputs": [],
   "source": []
  },
  {
   "cell_type": "code",
   "execution_count": null,
   "id": "f425424d",
   "metadata": {},
   "outputs": [],
   "source": [
    "points_df"
   ]
  },
  {
   "cell_type": "code",
   "execution_count": null,
   "id": "d8659d1e",
   "metadata": {},
   "outputs": [],
   "source": []
  },
  {
   "cell_type": "code",
   "execution_count": null,
   "id": "192b721a",
   "metadata": {},
   "outputs": [],
   "source": []
  },
  {
   "cell_type": "code",
   "execution_count": null,
   "id": "726e6cb8",
   "metadata": {},
   "outputs": [],
   "source": []
  },
  {
   "cell_type": "code",
   "execution_count": null,
   "id": "7239aaa3",
   "metadata": {},
   "outputs": [],
   "source": []
  },
  {
   "cell_type": "code",
   "execution_count": null,
   "id": "5ce25d03",
   "metadata": {},
   "outputs": [],
   "source": []
  },
  {
   "cell_type": "code",
   "execution_count": null,
   "id": "07bef213",
   "metadata": {},
   "outputs": [],
   "source": []
  },
  {
   "cell_type": "code",
   "execution_count": null,
   "id": "a3dbd04f",
   "metadata": {},
   "outputs": [],
   "source": []
  },
  {
   "cell_type": "code",
   "execution_count": null,
   "id": "272f76de",
   "metadata": {},
   "outputs": [],
   "source": []
  },
  {
   "cell_type": "code",
   "execution_count": null,
   "id": "8faac937",
   "metadata": {},
   "outputs": [],
   "source": [
    "# eg = recipes_df[recipes_df['name'].apply(lambda x: 'iron rod' in x.lower())]"
   ]
  },
  {
   "cell_type": "code",
   "execution_count": null,
   "id": "89f6a59d",
   "metadata": {},
   "outputs": [],
   "source": [
    "# eg['produce'].iloc[0]"
   ]
  },
  {
   "cell_type": "code",
   "execution_count": null,
   "id": "129ea828",
   "metadata": {
    "scrolled": true
   },
   "outputs": [],
   "source": [
    "# eg['ingredients'].iloc[0]"
   ]
  },
  {
   "cell_type": "code",
   "execution_count": null,
   "id": "e5c531c3",
   "metadata": {},
   "outputs": [],
   "source": [
    "from Levenshtein import distance as levenshtein_dist\n",
    "from collections import defaultdict\n",
    "lev_dist = lambda x,y: levenshtein_dist(x, y) / max(len(x), len(y))"
   ]
  },
  {
   "cell_type": "code",
   "execution_count": null,
   "id": "df9b5757",
   "metadata": {},
   "outputs": [],
   "source": [
    "recipe_dict_raw = recipes_df.set_index('name')[['ingredients', 'produce']].to_dict()"
   ]
  },
  {
   "cell_type": "code",
   "execution_count": null,
   "id": "f6e4619e",
   "metadata": {},
   "outputs": [],
   "source": [
    "all_ios = set(recipes_df.explode('produce')['produce'].dropna().tolist()) | set(recipes_df.explode('ingredients')['ingredients'].dropna().tolist())"
   ]
  },
  {
   "cell_type": "code",
   "execution_count": null,
   "id": "26f9c694",
   "metadata": {},
   "outputs": [],
   "source": [
    "with open('dumb_name_to_good.json', 'w') as f:\n",
    "    json.dump({k : None for k in all_ios}, f, indent=4)"
   ]
  },
  {
   "cell_type": "code",
   "execution_count": null,
   "id": "4b73259f",
   "metadata": {},
   "outputs": [],
   "source": []
  },
  {
   "cell_type": "code",
   "execution_count": null,
   "id": "2c0c34db",
   "metadata": {},
   "outputs": [],
   "source": []
  },
  {
   "cell_type": "code",
   "execution_count": null,
   "id": "d02696b4",
   "metadata": {
    "scrolled": true
   },
   "outputs": [],
   "source": [
    "recipes_df"
   ]
  },
  {
   "cell_type": "code",
   "execution_count": null,
   "id": "6bb72866",
   "metadata": {},
   "outputs": [],
   "source": [
    "with pd.option_context('display.max_colwidth', 999):\n",
    "    display(recipes_df[recipes_df['ingredients'].apply(lambda x: any(['TemporalProcessor' in y for y in x]))])"
   ]
  },
  {
   "cell_type": "code",
   "execution_count": null,
   "id": "bacac375",
   "metadata": {},
   "outputs": [],
   "source": [
    "with pd.option_context('display.max_colwidth', 999):\n",
    "    display(recipes_df[recipes_df['produce'].apply(lambda x: any(['JumpingStilts' in y for y in x]))])"
   ]
  },
  {
   "cell_type": "code",
   "execution_count": null,
   "id": "b4380149",
   "metadata": {},
   "outputs": [],
   "source": [
    "points_df[points_df['item'].apply(lambda x: 'stilt' in x.lower())]"
   ]
  },
  {
   "cell_type": "code",
   "execution_count": null,
   "id": "74439651",
   "metadata": {},
   "outputs": [],
   "source": [
    "points_df.shape"
   ]
  },
  {
   "cell_type": "code",
   "execution_count": null,
   "id": "49772a7e",
   "metadata": {},
   "outputs": [],
   "source": []
  },
  {
   "cell_type": "code",
   "execution_count": null,
   "id": "9a462c55",
   "metadata": {},
   "outputs": [],
   "source": []
  },
  {
   "cell_type": "code",
   "execution_count": null,
   "id": "e7a83d74",
   "metadata": {},
   "outputs": [],
   "source": []
  },
  {
   "cell_type": "code",
   "execution_count": null,
   "id": "6e2b0627",
   "metadata": {},
   "outputs": [],
   "source": []
  },
  {
   "cell_type": "code",
   "execution_count": null,
   "id": "c5140896",
   "metadata": {},
   "outputs": [],
   "source": [
    "for k, v in output_to_recipes.items():\n",
    "    print(k, v)\n",
    "    break"
   ]
  },
  {
   "cell_type": "code",
   "execution_count": null,
   "id": "848605d6",
   "metadata": {},
   "outputs": [],
   "source": [
    "def get_matching_items(key):\n",
    "    return {k : v for k, v in output_to_recipes.items() if key.replace(' ', '').lower() in k.lower()}"
   ]
  },
  {
   "cell_type": "code",
   "execution_count": null,
   "id": "feaf2b60",
   "metadata": {},
   "outputs": [],
   "source": [
    "points_df['matched_recipes'] = points_df['item'].apply(get_matching_items)"
   ]
  },
  {
   "cell_type": "code",
   "execution_count": null,
   "id": "0759f328",
   "metadata": {},
   "outputs": [],
   "source": [
    "points_df['n_matched'] = points_df['matched_recipes'].apply(len)"
   ]
  },
  {
   "cell_type": "code",
   "execution_count": null,
   "id": "03032a0f",
   "metadata": {
    "scrolled": true
   },
   "outputs": [],
   "source": [
    "points_df.sort_values('n_matched')"
   ]
  },
  {
   "cell_type": "code",
   "execution_count": null,
   "id": "f7cc4c26",
   "metadata": {
    "scrolled": true
   },
   "outputs": [],
   "source": [
    "with pd.option_context('display.max_rows', 999):\n",
    "    display(points_df[points_df['n_matched'] == 0])"
   ]
  },
  {
   "cell_type": "code",
   "execution_count": null,
   "id": "691a3285",
   "metadata": {},
   "outputs": [],
   "source": []
  },
  {
   "cell_type": "code",
   "execution_count": null,
   "id": "b576bb32",
   "metadata": {
    "scrolled": true
   },
   "outputs": [],
   "source": [
    "with pd.option_context('display.max_rows', 999, 'display.max_colwidth', 999):\n",
    "    display(points_df[points_df['n_matched'] > 0].sort_values('n_matched'))"
   ]
  },
  {
   "cell_type": "code",
   "execution_count": null,
   "id": "71c754c7",
   "metadata": {},
   "outputs": [],
   "source": []
  },
  {
   "cell_type": "code",
   "execution_count": null,
   "id": "372eef9d",
   "metadata": {},
   "outputs": [],
   "source": [
    "points_df['item'].apply(get_matching_items)"
   ]
  },
  {
   "cell_type": "code",
   "execution_count": null,
   "id": "6d95dc12",
   "metadata": {},
   "outputs": [],
   "source": []
  },
  {
   "cell_type": "code",
   "execution_count": null,
   "id": "2f908b2e",
   "metadata": {},
   "outputs": [],
   "source": []
  },
  {
   "cell_type": "code",
   "execution_count": null,
   "id": "c4ef1f62",
   "metadata": {},
   "outputs": [],
   "source": []
  },
  {
   "cell_type": "code",
   "execution_count": null,
   "id": "facfcc00",
   "metadata": {},
   "outputs": [],
   "source": [
    "\n",
    "from scipy.spatial.distance import squareform, pdist"
   ]
  },
  {
   "cell_type": "code",
   "execution_count": null,
   "id": "b4eae214",
   "metadata": {},
   "outputs": [],
   "source": []
  },
  {
   "cell_type": "code",
   "execution_count": null,
   "id": "3196ba31",
   "metadata": {},
   "outputs": [],
   "source": [
    "dist_mat = squareform(pdist())"
   ]
  },
  {
   "cell_type": "code",
   "execution_count": null,
   "id": "8837f40f",
   "metadata": {},
   "outputs": [],
   "source": []
  },
  {
   "cell_type": "code",
   "execution_count": null,
   "id": "3121fb7b",
   "metadata": {},
   "outputs": [],
   "source": []
  },
  {
   "cell_type": "code",
   "execution_count": null,
   "id": "f79bad50",
   "metadata": {},
   "outputs": [],
   "source": [
    "points_info"
   ]
  },
  {
   "cell_type": "code",
   "execution_count": null,
   "id": "88f66dcf",
   "metadata": {},
   "outputs": [],
   "source": [
    "recipes_df['ingredients'].explode().tolist()"
   ]
  },
  {
   "cell_type": "code",
   "execution_count": null,
   "id": "bcd6dafa",
   "metadata": {},
   "outputs": [],
   "source": []
  },
  {
   "cell_type": "code",
   "execution_count": null,
   "id": "aa99f569",
   "metadata": {},
   "outputs": [],
   "source": []
  },
  {
   "cell_type": "code",
   "execution_count": null,
   "id": "8884456f",
   "metadata": {},
   "outputs": [],
   "source": []
  },
  {
   "cell_type": "code",
   "execution_count": null,
   "id": "e8b6251f",
   "metadata": {},
   "outputs": [],
   "source": []
  },
  {
   "cell_type": "code",
   "execution_count": null,
   "id": "2ee572aa",
   "metadata": {},
   "outputs": [],
   "source": []
  },
  {
   "cell_type": "code",
   "execution_count": null,
   "id": "4d460a44",
   "metadata": {},
   "outputs": [],
   "source": []
  },
  {
   "cell_type": "code",
   "execution_count": null,
   "id": "be70405c",
   "metadata": {},
   "outputs": [],
   "source": []
  },
  {
   "cell_type": "code",
   "execution_count": null,
   "id": "b4b3eec5",
   "metadata": {},
   "outputs": [],
   "source": []
  },
  {
   "cell_type": "code",
   "execution_count": null,
   "id": "949003fb",
   "metadata": {},
   "outputs": [],
   "source": []
  },
  {
   "cell_type": "code",
   "execution_count": null,
   "id": "c645b2ae",
   "metadata": {},
   "outputs": [],
   "source": []
  },
  {
   "cell_type": "code",
   "execution_count": null,
   "id": "049f2055",
   "metadata": {},
   "outputs": [],
   "source": []
  },
  {
   "cell_type": "code",
   "execution_count": null,
   "id": "8ca83567",
   "metadata": {},
   "outputs": [],
   "source": []
  },
  {
   "cell_type": "code",
   "execution_count": null,
   "id": "58c8c7b2",
   "metadata": {},
   "outputs": [],
   "source": []
  },
  {
   "cell_type": "code",
   "execution_count": null,
   "id": "99d0442d",
   "metadata": {},
   "outputs": [],
   "source": []
  },
  {
   "cell_type": "code",
   "execution_count": null,
   "id": "5e493754",
   "metadata": {},
   "outputs": [],
   "source": []
  },
  {
   "cell_type": "code",
   "execution_count": null,
   "id": "887e4220",
   "metadata": {},
   "outputs": [],
   "source": []
  },
  {
   "cell_type": "code",
   "execution_count": null,
   "id": "e321b90b",
   "metadata": {},
   "outputs": [],
   "source": []
  },
  {
   "cell_type": "code",
   "execution_count": null,
   "id": "504c939a",
   "metadata": {},
   "outputs": [],
   "source": []
  },
  {
   "cell_type": "code",
   "execution_count": null,
   "id": "7e89e574",
   "metadata": {},
   "outputs": [],
   "source": []
  },
  {
   "cell_type": "code",
   "execution_count": null,
   "id": "24d74521",
   "metadata": {},
   "outputs": [],
   "source": []
  },
  {
   "cell_type": "code",
   "execution_count": null,
   "id": "8432c92a",
   "metadata": {},
   "outputs": [],
   "source": []
  },
  {
   "cell_type": "code",
   "execution_count": null,
   "id": "ebb89443",
   "metadata": {},
   "outputs": [],
   "source": []
  },
  {
   "cell_type": "code",
   "execution_count": null,
   "id": "db49d893",
   "metadata": {},
   "outputs": [],
   "source": []
  },
  {
   "cell_type": "code",
   "execution_count": null,
   "id": "0f46f487",
   "metadata": {},
   "outputs": [],
   "source": []
  },
  {
   "cell_type": "code",
   "execution_count": null,
   "id": "c82789e5",
   "metadata": {},
   "outputs": [],
   "source": []
  },
  {
   "cell_type": "code",
   "execution_count": null,
   "id": "c8a4badf",
   "metadata": {},
   "outputs": [],
   "source": []
  },
  {
   "cell_type": "code",
   "execution_count": null,
   "id": "919deb7f",
   "metadata": {},
   "outputs": [],
   "source": [
    "schematics_df = pd.DataFrame.from_dict(raw_data['schematicsData'], orient='index')"
   ]
  },
  {
   "cell_type": "code",
   "execution_count": null,
   "id": "b58d2c65",
   "metadata": {},
   "outputs": [],
   "source": [
    "schematics_df"
   ]
  },
  {
   "cell_type": "code",
   "execution_count": null,
   "id": "494c2c0b",
   "metadata": {},
   "outputs": [],
   "source": []
  },
  {
   "cell_type": "code",
   "execution_count": null,
   "id": "12dcde22",
   "metadata": {},
   "outputs": [],
   "source": [
    "is_alternate = recipes_df['className'].apply(lambda x: (x.split('/')[4] if x.count('/') > 4 else None) == 'AlternateRecipes')"
   ]
  },
  {
   "cell_type": "code",
   "execution_count": null,
   "id": "b4bb0ad4",
   "metadata": {},
   "outputs": [],
   "source": [
    "recipes_df[is_alternate]['name']"
   ]
  },
  {
   "cell_type": "code",
   "execution_count": null,
   "id": "057676d9",
   "metadata": {},
   "outputs": [],
   "source": []
  },
  {
   "cell_type": "code",
   "execution_count": null,
   "id": "d02fb82e",
   "metadata": {},
   "outputs": [],
   "source": [
    "\n",
    "recipes_df['className'].apply().value_counts()"
   ]
  },
  {
   "cell_type": "code",
   "execution_count": null,
   "id": "f72f8c49",
   "metadata": {},
   "outputs": [],
   "source": [
    "pd.DataFrame.from_dict(raw_data['schematicsData'], orient='index')['recipes'].shape"
   ]
  },
  {
   "cell_type": "code",
   "execution_count": null,
   "id": "e9acdfb9",
   "metadata": {
    "scrolled": true
   },
   "outputs": [],
   "source": [
    "building_df"
   ]
  },
  {
   "cell_type": "code",
   "execution_count": null,
   "id": "a9cabc3d",
   "metadata": {},
   "outputs": [],
   "source": [
    "item_df"
   ]
  },
  {
   "cell_type": "code",
   "execution_count": null,
   "id": "1127056b",
   "metadata": {},
   "outputs": [],
   "source": [
    "recipes_df"
   ]
  },
  {
   "cell_type": "code",
   "execution_count": null,
   "id": "c2ba8542",
   "metadata": {},
   "outputs": [],
   "source": [
    "pd.DataFrame.from_dict(raw_data['buildingsCategories'], orient='index')"
   ]
  },
  {
   "cell_type": "code",
   "execution_count": null,
   "id": "d1a550a0",
   "metadata": {},
   "outputs": [],
   "source": []
  },
  {
   "cell_type": "code",
   "execution_count": null,
   "id": "cad07a5e",
   "metadata": {},
   "outputs": [],
   "source": []
  },
  {
   "cell_type": "code",
   "execution_count": null,
   "id": "2c2095d5",
   "metadata": {},
   "outputs": [],
   "source": [
    "greg"
   ]
  },
  {
   "cell_type": "code",
   "execution_count": null,
   "id": "8703e491",
   "metadata": {},
   "outputs": [],
   "source": []
  },
  {
   "cell_type": "code",
   "execution_count": null,
   "id": "841c770e",
   "metadata": {},
   "outputs": [],
   "source": []
  },
  {
   "cell_type": "code",
   "execution_count": null,
   "id": "d45de633",
   "metadata": {},
   "outputs": [],
   "source": []
  },
  {
   "cell_type": "code",
   "execution_count": null,
   "id": "60167665",
   "metadata": {},
   "outputs": [],
   "source": [
    "df = pd.DataFrame.from_dict(load_json('working.json'), orient='index')"
   ]
  },
  {
   "cell_type": "code",
   "execution_count": null,
   "id": "fd0a3646",
   "metadata": {},
   "outputs": [],
   "source": [
    "keys = df[0].apply(lambda x: x.keys()).explode().dropna().unique()\n",
    "for k in keys:\n",
    "    df[k] = df[0].apply(lambda x: x[k])"
   ]
  },
  {
   "cell_type": "code",
   "execution_count": null,
   "id": "d76a07aa",
   "metadata": {},
   "outputs": [],
   "source": [
    "keys"
   ]
  },
  {
   "cell_type": "code",
   "execution_count": null,
   "id": "29c6b191",
   "metadata": {
    "scrolled": true
   },
   "outputs": [],
   "source": [
    "df"
   ]
  },
  {
   "cell_type": "code",
   "execution_count": null,
   "id": "faf9a2d5",
   "metadata": {},
   "outputs": [],
   "source": [
    "df['className'].value_counts()"
   ]
  },
  {
   "cell_type": "code",
   "execution_count": null,
   "id": "ef29a895",
   "metadata": {},
   "outputs": [],
   "source": []
  },
  {
   "cell_type": "code",
   "execution_count": null,
   "id": "5978023f",
   "metadata": {},
   "outputs": [],
   "source": [
    "points_df"
   ]
  },
  {
   "cell_type": "code",
   "execution_count": null,
   "id": "69c1fbc9",
   "metadata": {},
   "outputs": [],
   "source": []
  }
 ],
 "metadata": {
  "kernelspec": {
   "display_name": "Python 3 (ipykernel)",
   "language": "python",
   "name": "python3"
  },
  "language_info": {
   "codemirror_mode": {
    "name": "ipython",
    "version": 3
   },
   "file_extension": ".py",
   "mimetype": "text/x-python",
   "name": "python",
   "nbconvert_exporter": "python",
   "pygments_lexer": "ipython3",
   "version": "3.12.8"
  }
 },
 "nbformat": 4,
 "nbformat_minor": 5
}
